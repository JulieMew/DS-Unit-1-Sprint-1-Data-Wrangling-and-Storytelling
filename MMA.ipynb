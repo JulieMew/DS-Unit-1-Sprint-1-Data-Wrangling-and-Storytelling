{
  "nbformat": 4,
  "nbformat_minor": 0,
  "metadata": {
    "colab": {
      "name": "MMA.ipynb",
      "provenance": [],
      "collapsed_sections": [],
      "authorship_tag": "ABX9TyNv5L20sMfZ9+jKtdC4wQTF",
      "include_colab_link": true
    },
    "kernelspec": {
      "name": "python3",
      "display_name": "Python 3"
    }
  },
  "cells": [
    {
      "cell_type": "markdown",
      "metadata": {
        "id": "view-in-github",
        "colab_type": "text"
      },
      "source": [
        "<a href=\"https://colab.research.google.com/github/JulieMew/DS-Unit-1-Sprint-1-Data-Wrangling-and-Storytelling/blob/master/MMA.ipynb\" target=\"_parent\"><img src=\"https://colab.research.google.com/assets/colab-badge.svg\" alt=\"Open In Colab\"/></a>"
      ]
    },
    {
      "cell_type": "markdown",
      "metadata": {
        "id": "e9MVgXA1G4zb",
        "colab_type": "text"
      },
      "source": [
        "##What variable has the most effect on how a fight ends?\n",
        "\n",
        "Weight class clearly affects strategies employed by fighters, as does the school a fighter goes to, but how does that affect the fight itself? In this analysis we'll see what how a fight is likely to end for each weight division, and for fighters trained by different organizations.\n",
        "\n",
        "---\n",
        "\n",
        "\n"
      ]
    },
    {
      "cell_type": "code",
      "metadata": {
        "id": "-PpLuuqfMblq",
        "colab_type": "code",
        "colab": {}
      },
      "source": [
        "import numpy as np\n",
        "import pandas as pd\n",
        "import matplotlib.pyplot as plt\n",
        "plt.style.use('fivethirtyeight')\n",
        "import scipy as sp\n",
        "import seaborn as sns \n",
        "from pandas import Series, DataFrame"
      ],
      "execution_count": 0,
      "outputs": []
    },
    {
      "cell_type": "code",
      "metadata": {
        "id": "mTDemXqJRz83",
        "colab_type": "code",
        "outputId": "c8c9523d-d6ea-4af7-f0d3-58b3b295be79",
        "colab": {
          "resources": {
            "http://localhost:8080/nbextensions/google.colab/files.js": {
              "data": "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",
              "ok": true,
              "headers": [
                [
                  "content-type",
                  "application/javascript"
                ]
              ],
              "status": 200,
              "status_text": ""
            }
          },
          "base_uri": "https://localhost:8080/",
          "height": 74
        }
      },
      "source": [
        "#load in datasets\n",
        "from google.colab import files\n",
        "uploaded = files.upload()"
      ],
      "execution_count": 2,
      "outputs": [
        {
          "output_type": "display_data",
          "data": {
            "text/html": [
              "\n",
              "     <input type=\"file\" id=\"files-d2a723b7-3a56-4ac1-b2c9-eae24c80f2c1\" name=\"files[]\" multiple disabled />\n",
              "     <output id=\"result-d2a723b7-3a56-4ac1-b2c9-eae24c80f2c1\">\n",
              "      Upload widget is only available when the cell has been executed in the\n",
              "      current browser session. Please rerun this cell to enable.\n",
              "      </output>\n",
              "      <script src=\"/nbextensions/google.colab/files.js\"></script> "
            ],
            "text/plain": [
              "<IPython.core.display.HTML object>"
            ]
          },
          "metadata": {
            "tags": []
          }
        },
        {
          "output_type": "stream",
          "text": [
            "Saving ALL UFC FIGHTS 2_23_2016 SHERDOG.COM - Sheet1.csv to ALL UFC FIGHTS 2_23_2016 SHERDOG.COM - Sheet1.csv\n"
          ],
          "name": "stdout"
        }
      ]
    },
    {
      "cell_type": "code",
      "metadata": {
        "id": "Z6wmrsdoLSNl",
        "colab_type": "code",
        "outputId": "37be6a41-9d21-4716-d8e8-9140a5bb89d8",
        "colab": {
          "resources": {
            "http://localhost:8080/nbextensions/google.colab/files.js": {
              "data": "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",
              "ok": true,
              "headers": [
                [
                  "content-type",
                  "application/javascript"
                ]
              ],
              "status": 200,
              "status_text": ""
            }
          },
          "base_uri": "https://localhost:8080/",
          "height": 74
        }
      },
      "source": [
        "from google.colab import files\n",
        "uploaded = files.upload()"
      ],
      "execution_count": 3,
      "outputs": [
        {
          "output_type": "display_data",
          "data": {
            "text/html": [
              "\n",
              "     <input type=\"file\" id=\"files-e4b9c5ba-90c2-409e-bd69-e9a3514382cb\" name=\"files[]\" multiple disabled />\n",
              "     <output id=\"result-e4b9c5ba-90c2-409e-bd69-e9a3514382cb\">\n",
              "      Upload widget is only available when the cell has been executed in the\n",
              "      current browser session. Please rerun this cell to enable.\n",
              "      </output>\n",
              "      <script src=\"/nbextensions/google.colab/files.js\"></script> "
            ],
            "text/plain": [
              "<IPython.core.display.HTML object>"
            ]
          },
          "metadata": {
            "tags": []
          }
        },
        {
          "output_type": "stream",
          "text": [
            "Saving ALL UFC FIGHTERS 2_23_2016 SHERDOG.COM - Sheet1.csv to ALL UFC FIGHTERS 2_23_2016 SHERDOG.COM - Sheet1.csv\n"
          ],
          "name": "stdout"
        }
      ]
    },
    {
      "cell_type": "code",
      "metadata": {
        "id": "xTX7K-U_Ld9L",
        "colab_type": "code",
        "outputId": "258f5934-f37f-41bb-d84b-d35167ecc871",
        "colab": {
          "base_uri": "https://localhost:8080/",
          "height": 1000
        }
      },
      "source": [
        "#This dataframe contains every UF event up to 2016.\n",
        "fights = pd.read_csv('ALL UFC FIGHTS 2_23_2016 SHERDOG.COM - Sheet1.csv')\n",
        "print(fights.shape)\n",
        "fights[15:30]"
      ],
      "execution_count": 4,
      "outputs": [
        {
          "output_type": "stream",
          "text": [
            "(3569, 20)\n"
          ],
          "name": "stdout"
        },
        {
          "output_type": "execute_result",
          "data": {
            "text/html": [
              "<div>\n",
              "<style scoped>\n",
              "    .dataframe tbody tr th:only-of-type {\n",
              "        vertical-align: middle;\n",
              "    }\n",
              "\n",
              "    .dataframe tbody tr th {\n",
              "        vertical-align: top;\n",
              "    }\n",
              "\n",
              "    .dataframe thead th {\n",
              "        text-align: right;\n",
              "    }\n",
              "</style>\n",
              "<table border=\"1\" class=\"dataframe\">\n",
              "  <thead>\n",
              "    <tr style=\"text-align: right;\">\n",
              "      <th></th>\n",
              "      <th>pageurl</th>\n",
              "      <th>eid</th>\n",
              "      <th>mid</th>\n",
              "      <th>event_name</th>\n",
              "      <th>event_org</th>\n",
              "      <th>event_date</th>\n",
              "      <th>event_place</th>\n",
              "      <th>f1pageurl</th>\n",
              "      <th>f2pageurl</th>\n",
              "      <th>f1name</th>\n",
              "      <th>f2name</th>\n",
              "      <th>f1result</th>\n",
              "      <th>f2result</th>\n",
              "      <th>f1fid</th>\n",
              "      <th>f2fid</th>\n",
              "      <th>method</th>\n",
              "      <th>method_d</th>\n",
              "      <th>ref</th>\n",
              "      <th>round</th>\n",
              "      <th>time</th>\n",
              "    </tr>\n",
              "  </thead>\n",
              "  <tbody>\n",
              "    <tr>\n",
              "      <th>15</th>\n",
              "      <td>/events/UFC-2-No-Way-Out-8</td>\n",
              "      <td>8</td>\n",
              "      <td>8</td>\n",
              "      <td>UFC 2 - No Way Out</td>\n",
              "      <td>Ultimate Fighting Championship</td>\n",
              "      <td>3/11/1994</td>\n",
              "      <td>Fillmore Auditorium, Denver, Colorado, United ...</td>\n",
              "      <td>/fighter/Royce-Gracie-19</td>\n",
              "      <td>/fighter/Minoki-Ichihara-35</td>\n",
              "      <td>Royce Gracie</td>\n",
              "      <td>Minoki Ichihara</td>\n",
              "      <td>win</td>\n",
              "      <td>loss</td>\n",
              "      <td>19</td>\n",
              "      <td>35</td>\n",
              "      <td>Submission</td>\n",
              "      <td>Lapel Choke</td>\n",
              "      <td>John McCarthy</td>\n",
              "      <td>1</td>\n",
              "      <td>5:08</td>\n",
              "    </tr>\n",
              "    <tr>\n",
              "      <th>16</th>\n",
              "      <td>/events/UFC-2-No-Way-Out-8</td>\n",
              "      <td>8</td>\n",
              "      <td>7</td>\n",
              "      <td>UFC 2 - No Way Out</td>\n",
              "      <td>Ultimate Fighting Championship</td>\n",
              "      <td>3/11/1994</td>\n",
              "      <td>Fillmore Auditorium, Denver, Colorado, United ...</td>\n",
              "      <td>/fighter/Jason-DeLucia-22</td>\n",
              "      <td>/fighter/Scott-Baker-34</td>\n",
              "      <td>Jason DeLucia</td>\n",
              "      <td>Scott Baker</td>\n",
              "      <td>win</td>\n",
              "      <td>loss</td>\n",
              "      <td>22</td>\n",
              "      <td>34</td>\n",
              "      <td>Submission</td>\n",
              "      <td>Punches</td>\n",
              "      <td>John McCarthy</td>\n",
              "      <td>1</td>\n",
              "      <td>6:41</td>\n",
              "    </tr>\n",
              "    <tr>\n",
              "      <th>17</th>\n",
              "      <td>/events/UFC-2-No-Way-Out-8</td>\n",
              "      <td>8</td>\n",
              "      <td>6</td>\n",
              "      <td>UFC 2 - No Way Out</td>\n",
              "      <td>Ultimate Fighting Championship</td>\n",
              "      <td>3/11/1994</td>\n",
              "      <td>Fillmore Auditorium, Denver, Colorado, United ...</td>\n",
              "      <td>/fighter/Remco-Pardoel-33</td>\n",
              "      <td>/fighter/Alberto-Cerra-Leon-37</td>\n",
              "      <td>Remco Pardoel</td>\n",
              "      <td>Alberto Cerra Leon</td>\n",
              "      <td>win</td>\n",
              "      <td>loss</td>\n",
              "      <td>33</td>\n",
              "      <td>37</td>\n",
              "      <td>Submission</td>\n",
              "      <td>Armlock</td>\n",
              "      <td>John McCarthy</td>\n",
              "      <td>1</td>\n",
              "      <td>9:51</td>\n",
              "    </tr>\n",
              "    <tr>\n",
              "      <th>18</th>\n",
              "      <td>/events/UFC-2-No-Way-Out-8</td>\n",
              "      <td>8</td>\n",
              "      <td>5</td>\n",
              "      <td>UFC 2 - No Way Out</td>\n",
              "      <td>Ultimate Fighting Championship</td>\n",
              "      <td>3/11/1994</td>\n",
              "      <td>Fillmore Auditorium, Denver, Colorado, United ...</td>\n",
              "      <td>/fighter/Orlando-Wiet-31</td>\n",
              "      <td>/fighter/Robert-Lucarelli-32</td>\n",
              "      <td>Orlando Wiet</td>\n",
              "      <td>Robert Lucarelli</td>\n",
              "      <td>win</td>\n",
              "      <td>loss</td>\n",
              "      <td>31</td>\n",
              "      <td>32</td>\n",
              "      <td>TKO</td>\n",
              "      <td>Knees</td>\n",
              "      <td>John McCarthy</td>\n",
              "      <td>1</td>\n",
              "      <td>2:50</td>\n",
              "    </tr>\n",
              "    <tr>\n",
              "      <th>19</th>\n",
              "      <td>/events/UFC-2-No-Way-Out-8</td>\n",
              "      <td>8</td>\n",
              "      <td>4</td>\n",
              "      <td>UFC 2 - No Way Out</td>\n",
              "      <td>Ultimate Fighting Championship</td>\n",
              "      <td>3/11/1994</td>\n",
              "      <td>Fillmore Auditorium, Denver, Colorado, United ...</td>\n",
              "      <td>/fighter/Frank-Hamaker-29</td>\n",
              "      <td>/fighter/Thaddeus-Luster-30</td>\n",
              "      <td>Frank Hamaker</td>\n",
              "      <td>Thaddeus Luster</td>\n",
              "      <td>win</td>\n",
              "      <td>loss</td>\n",
              "      <td>29</td>\n",
              "      <td>30</td>\n",
              "      <td>TKO</td>\n",
              "      <td>Corner Stoppage</td>\n",
              "      <td>John McCarthy</td>\n",
              "      <td>1</td>\n",
              "      <td>4:52</td>\n",
              "    </tr>\n",
              "    <tr>\n",
              "      <th>20</th>\n",
              "      <td>/events/UFC-2-No-Way-Out-8</td>\n",
              "      <td>8</td>\n",
              "      <td>3</td>\n",
              "      <td>UFC 2 - No Way Out</td>\n",
              "      <td>Ultimate Fighting Championship</td>\n",
              "      <td>3/11/1994</td>\n",
              "      <td>Fillmore Auditorium, Denver, Colorado, United ...</td>\n",
              "      <td>/fighter/Johnny-Rhodes-27</td>\n",
              "      <td>/fighter/David-Levicki-28</td>\n",
              "      <td>Johnny Rhodes</td>\n",
              "      <td>David Levicki</td>\n",
              "      <td>win</td>\n",
              "      <td>loss</td>\n",
              "      <td>27</td>\n",
              "      <td>28</td>\n",
              "      <td>Submission</td>\n",
              "      <td>Punches</td>\n",
              "      <td>John McCarthy</td>\n",
              "      <td>1</td>\n",
              "      <td>12:13</td>\n",
              "    </tr>\n",
              "    <tr>\n",
              "      <th>21</th>\n",
              "      <td>/events/UFC-2-No-Way-Out-8</td>\n",
              "      <td>8</td>\n",
              "      <td>2</td>\n",
              "      <td>UFC 2 - No Way Out</td>\n",
              "      <td>Ultimate Fighting Championship</td>\n",
              "      <td>3/11/1994</td>\n",
              "      <td>Fillmore Auditorium, Denver, Colorado, United ...</td>\n",
              "      <td>/fighter/Patrick-Smith-21</td>\n",
              "      <td>/fighter/Ray-Wizard-26</td>\n",
              "      <td>Patrick Smith</td>\n",
              "      <td>Ray Wizard</td>\n",
              "      <td>win</td>\n",
              "      <td>loss</td>\n",
              "      <td>21</td>\n",
              "      <td>26</td>\n",
              "      <td>Submission</td>\n",
              "      <td>Guillotine Choke</td>\n",
              "      <td>John McCarthy</td>\n",
              "      <td>1</td>\n",
              "      <td>0:58</td>\n",
              "    </tr>\n",
              "    <tr>\n",
              "      <th>22</th>\n",
              "      <td>/events/UFC-2-No-Way-Out-8</td>\n",
              "      <td>8</td>\n",
              "      <td>1</td>\n",
              "      <td>UFC 2 - No Way Out</td>\n",
              "      <td>Ultimate Fighting Championship</td>\n",
              "      <td>3/11/1994</td>\n",
              "      <td>Fillmore Auditorium, Denver, Colorado, United ...</td>\n",
              "      <td>/fighter/Scott-Morris-24</td>\n",
              "      <td>/fighter/Sean-Daugherty-25</td>\n",
              "      <td>Scott Morris</td>\n",
              "      <td>Sean Daugherty</td>\n",
              "      <td>win</td>\n",
              "      <td>loss</td>\n",
              "      <td>24</td>\n",
              "      <td>25</td>\n",
              "      <td>Submission</td>\n",
              "      <td>Guillotine Choke</td>\n",
              "      <td>John McCarthy</td>\n",
              "      <td>1</td>\n",
              "      <td>0:20</td>\n",
              "    </tr>\n",
              "    <tr>\n",
              "      <th>23</th>\n",
              "      <td>/events/UFC-3-The-American-Dream-9</td>\n",
              "      <td>9</td>\n",
              "      <td>6</td>\n",
              "      <td>UFC 3 - The American Dream</td>\n",
              "      <td>Ultimate Fighting Championship</td>\n",
              "      <td>9/9/1994</td>\n",
              "      <td>Grady Cole Center, Charlotte, North Carolina, ...</td>\n",
              "      <td>/fighter/Steve-Jennum-44</td>\n",
              "      <td>/fighter/Harold-Howard-41</td>\n",
              "      <td>Steve Jennum</td>\n",
              "      <td>Harold Howard</td>\n",
              "      <td>win</td>\n",
              "      <td>loss</td>\n",
              "      <td>44</td>\n",
              "      <td>41</td>\n",
              "      <td>Submission</td>\n",
              "      <td>Punches</td>\n",
              "      <td>John McCarthy</td>\n",
              "      <td>1</td>\n",
              "      <td>1:27</td>\n",
              "    </tr>\n",
              "    <tr>\n",
              "      <th>24</th>\n",
              "      <td>/events/UFC-3-The-American-Dream-9</td>\n",
              "      <td>9</td>\n",
              "      <td>5</td>\n",
              "      <td>UFC 3 - The American Dream</td>\n",
              "      <td>Ultimate Fighting Championship</td>\n",
              "      <td>9/9/1994</td>\n",
              "      <td>Grady Cole Center, Charlotte, North Carolina, ...</td>\n",
              "      <td>/fighter/Ken-Shamrock-4</td>\n",
              "      <td>/fighter/Felix-Mitchell-45</td>\n",
              "      <td>Ken Shamrock</td>\n",
              "      <td>Felix Mitchell</td>\n",
              "      <td>win</td>\n",
              "      <td>loss</td>\n",
              "      <td>4</td>\n",
              "      <td>45</td>\n",
              "      <td>Submission</td>\n",
              "      <td>Rear-Naked Choke</td>\n",
              "      <td>John McCarthy</td>\n",
              "      <td>1</td>\n",
              "      <td>4:34</td>\n",
              "    </tr>\n",
              "    <tr>\n",
              "      <th>25</th>\n",
              "      <td>/events/UFC-3-The-American-Dream-9</td>\n",
              "      <td>9</td>\n",
              "      <td>4</td>\n",
              "      <td>UFC 3 - The American Dream</td>\n",
              "      <td>Ultimate Fighting Championship</td>\n",
              "      <td>9/9/1994</td>\n",
              "      <td>Grady Cole Center, Charlotte, North Carolina, ...</td>\n",
              "      <td>/fighter/Royce-Gracie-19</td>\n",
              "      <td>/fighter/Kimo-Leopoldo-43</td>\n",
              "      <td>Royce Gracie</td>\n",
              "      <td>Kimo Leopoldo</td>\n",
              "      <td>win</td>\n",
              "      <td>loss</td>\n",
              "      <td>19</td>\n",
              "      <td>43</td>\n",
              "      <td>Submission</td>\n",
              "      <td>Armlock</td>\n",
              "      <td>John McCarthy</td>\n",
              "      <td>1</td>\n",
              "      <td>4:40</td>\n",
              "    </tr>\n",
              "    <tr>\n",
              "      <th>26</th>\n",
              "      <td>/events/UFC-3-The-American-Dream-9</td>\n",
              "      <td>9</td>\n",
              "      <td>3</td>\n",
              "      <td>UFC 3 - The American Dream</td>\n",
              "      <td>Ultimate Fighting Championship</td>\n",
              "      <td>9/9/1994</td>\n",
              "      <td>Grady Cole Center, Charlotte, North Carolina, ...</td>\n",
              "      <td>/fighter/Harold-Howard-41</td>\n",
              "      <td>/fighter/Roland-Payne-42</td>\n",
              "      <td>Harold Howard</td>\n",
              "      <td>Roland Payne</td>\n",
              "      <td>win</td>\n",
              "      <td>loss</td>\n",
              "      <td>41</td>\n",
              "      <td>42</td>\n",
              "      <td>KO</td>\n",
              "      <td>Punch</td>\n",
              "      <td>John McCarthy</td>\n",
              "      <td>1</td>\n",
              "      <td>0:46</td>\n",
              "    </tr>\n",
              "    <tr>\n",
              "      <th>27</th>\n",
              "      <td>/events/UFC-3-The-American-Dream-9</td>\n",
              "      <td>9</td>\n",
              "      <td>2</td>\n",
              "      <td>UFC 3 - The American Dream</td>\n",
              "      <td>Ultimate Fighting Championship</td>\n",
              "      <td>9/9/1994</td>\n",
              "      <td>Grady Cole Center, Charlotte, North Carolina, ...</td>\n",
              "      <td>/fighter/Ken-Shamrock-4</td>\n",
              "      <td>/fighter/Christophe-Leninger-40</td>\n",
              "      <td>Ken Shamrock</td>\n",
              "      <td>Christophe Leninger</td>\n",
              "      <td>win</td>\n",
              "      <td>loss</td>\n",
              "      <td>4</td>\n",
              "      <td>40</td>\n",
              "      <td>Submission</td>\n",
              "      <td>Punches</td>\n",
              "      <td>John McCarthy</td>\n",
              "      <td>1</td>\n",
              "      <td>4:49</td>\n",
              "    </tr>\n",
              "    <tr>\n",
              "      <th>28</th>\n",
              "      <td>/events/UFC-3-The-American-Dream-9</td>\n",
              "      <td>9</td>\n",
              "      <td>1</td>\n",
              "      <td>UFC 3 - The American Dream</td>\n",
              "      <td>Ultimate Fighting Championship</td>\n",
              "      <td>9/9/1994</td>\n",
              "      <td>Grady Cole Center, Charlotte, North Carolina, ...</td>\n",
              "      <td>/fighter/Keith-Hackney-38</td>\n",
              "      <td>/fighter/Emmanuel-Yarborough-39</td>\n",
              "      <td>Keith Hackney</td>\n",
              "      <td>Emmanuel Yarborough</td>\n",
              "      <td>win</td>\n",
              "      <td>loss</td>\n",
              "      <td>38</td>\n",
              "      <td>39</td>\n",
              "      <td>TKO</td>\n",
              "      <td>Punches</td>\n",
              "      <td>John McCarthy</td>\n",
              "      <td>1</td>\n",
              "      <td>1:59</td>\n",
              "    </tr>\n",
              "    <tr>\n",
              "      <th>29</th>\n",
              "      <td>/events/UFC-4-Revenge-of-the-Warriors-10</td>\n",
              "      <td>10</td>\n",
              "      <td>10</td>\n",
              "      <td>UFC 4 - Revenge of the Warriors</td>\n",
              "      <td>Ultimate Fighting Championship</td>\n",
              "      <td>12/16/1994</td>\n",
              "      <td>Expo Square Pavilion, Tulsa, Oklahoma, United ...</td>\n",
              "      <td>/fighter/Royce-Gracie-19</td>\n",
              "      <td>/fighter/Dan-Severn-52</td>\n",
              "      <td>Royce Gracie</td>\n",
              "      <td>Dan Severn</td>\n",
              "      <td>win</td>\n",
              "      <td>loss</td>\n",
              "      <td>19</td>\n",
              "      <td>52</td>\n",
              "      <td>Submission</td>\n",
              "      <td>Triangle Choke</td>\n",
              "      <td>John McCarthy</td>\n",
              "      <td>1</td>\n",
              "      <td>15:49</td>\n",
              "    </tr>\n",
              "  </tbody>\n",
              "</table>\n",
              "</div>"
            ],
            "text/plain": [
              "                                     pageurl  eid  ...  round   time\n",
              "15                /events/UFC-2-No-Way-Out-8    8  ...      1   5:08\n",
              "16                /events/UFC-2-No-Way-Out-8    8  ...      1   6:41\n",
              "17                /events/UFC-2-No-Way-Out-8    8  ...      1   9:51\n",
              "18                /events/UFC-2-No-Way-Out-8    8  ...      1   2:50\n",
              "19                /events/UFC-2-No-Way-Out-8    8  ...      1   4:52\n",
              "20                /events/UFC-2-No-Way-Out-8    8  ...      1  12:13\n",
              "21                /events/UFC-2-No-Way-Out-8    8  ...      1   0:58\n",
              "22                /events/UFC-2-No-Way-Out-8    8  ...      1   0:20\n",
              "23        /events/UFC-3-The-American-Dream-9    9  ...      1   1:27\n",
              "24        /events/UFC-3-The-American-Dream-9    9  ...      1   4:34\n",
              "25        /events/UFC-3-The-American-Dream-9    9  ...      1   4:40\n",
              "26        /events/UFC-3-The-American-Dream-9    9  ...      1   0:46\n",
              "27        /events/UFC-3-The-American-Dream-9    9  ...      1   4:49\n",
              "28        /events/UFC-3-The-American-Dream-9    9  ...      1   1:59\n",
              "29  /events/UFC-4-Revenge-of-the-Warriors-10   10  ...      1  15:49\n",
              "\n",
              "[15 rows x 20 columns]"
            ]
          },
          "metadata": {
            "tags": []
          },
          "execution_count": 4
        }
      ]
    },
    {
      "cell_type": "code",
      "metadata": {
        "id": "-pNEYlQQM7nD",
        "colab_type": "code",
        "outputId": "f1e7cd1d-aaf1-4b40-ad8c-043018525eb9",
        "colab": {
          "base_uri": "https://localhost:8080/",
          "height": 306
        }
      },
      "source": [
        "#This contains every fighter in UFC up to 2016.\n",
        "fighters = pd.read_csv('ALL UFC FIGHTERS 2_23_2016 SHERDOG.COM - Sheet1.csv')\n",
        "print(fighters.shape)\n",
        "fighters.head()"
      ],
      "execution_count": 5,
      "outputs": [
        {
          "output_type": "stream",
          "text": [
            "(1561, 11)\n"
          ],
          "name": "stdout"
        },
        {
          "output_type": "execute_result",
          "data": {
            "text/html": [
              "<div>\n",
              "<style scoped>\n",
              "    .dataframe tbody tr th:only-of-type {\n",
              "        vertical-align: middle;\n",
              "    }\n",
              "\n",
              "    .dataframe tbody tr th {\n",
              "        vertical-align: top;\n",
              "    }\n",
              "\n",
              "    .dataframe thead th {\n",
              "        text-align: right;\n",
              "    }\n",
              "</style>\n",
              "<table border=\"1\" class=\"dataframe\">\n",
              "  <thead>\n",
              "    <tr style=\"text-align: right;\">\n",
              "      <th></th>\n",
              "      <th>url</th>\n",
              "      <th>fid</th>\n",
              "      <th>name</th>\n",
              "      <th>nick</th>\n",
              "      <th>birth_date</th>\n",
              "      <th>height</th>\n",
              "      <th>weight</th>\n",
              "      <th>association</th>\n",
              "      <th>class</th>\n",
              "      <th>locality</th>\n",
              "      <th>country</th>\n",
              "    </tr>\n",
              "  </thead>\n",
              "  <tbody>\n",
              "    <tr>\n",
              "      <th>0</th>\n",
              "      <td>/fighter/Conor-McGregor-29688</td>\n",
              "      <td>29688</td>\n",
              "      <td>Conor McGregor</td>\n",
              "      <td>Notorious</td>\n",
              "      <td>7/14/1988</td>\n",
              "      <td>68.0</td>\n",
              "      <td>145.0</td>\n",
              "      <td>SBG Ireland</td>\n",
              "      <td>Featherweight</td>\n",
              "      <td>Dublin</td>\n",
              "      <td>Ireland</td>\n",
              "    </tr>\n",
              "    <tr>\n",
              "      <th>1</th>\n",
              "      <td>/fighter/Jon-Jones-27944</td>\n",
              "      <td>27944</td>\n",
              "      <td>Jon Jones</td>\n",
              "      <td>Bones</td>\n",
              "      <td>7/19/1987</td>\n",
              "      <td>76.0</td>\n",
              "      <td>205.0</td>\n",
              "      <td>Jackson-Wink MMA</td>\n",
              "      <td>Light Heavyweight</td>\n",
              "      <td>Rochester, New York</td>\n",
              "      <td>United States</td>\n",
              "    </tr>\n",
              "    <tr>\n",
              "      <th>2</th>\n",
              "      <td>/fighter/Holly-Holm-75125</td>\n",
              "      <td>75125</td>\n",
              "      <td>Holly Holm</td>\n",
              "      <td>The Preacher's Daughter</td>\n",
              "      <td>10/17/1981</td>\n",
              "      <td>68.0</td>\n",
              "      <td>135.0</td>\n",
              "      <td>Jackson-Wink MMA</td>\n",
              "      <td>Bantamweight</td>\n",
              "      <td>Albuquerque, New Mexico</td>\n",
              "      <td>United States</td>\n",
              "    </tr>\n",
              "    <tr>\n",
              "      <th>3</th>\n",
              "      <td>/fighter/Dominick-Cruz-12107</td>\n",
              "      <td>12107</td>\n",
              "      <td>Dominick Cruz</td>\n",
              "      <td>The Dominator</td>\n",
              "      <td>9/3/1985</td>\n",
              "      <td>68.0</td>\n",
              "      <td>134.0</td>\n",
              "      <td>Alliance MMA</td>\n",
              "      <td>Bantamweight</td>\n",
              "      <td>San Diego, California</td>\n",
              "      <td>United States</td>\n",
              "    </tr>\n",
              "    <tr>\n",
              "      <th>4</th>\n",
              "      <td>/fighter/Demetrious-Johnson-45452</td>\n",
              "      <td>45452</td>\n",
              "      <td>Demetrious Johnson</td>\n",
              "      <td>Mighty Mouse</td>\n",
              "      <td>8/13/1986</td>\n",
              "      <td>63.0</td>\n",
              "      <td>125.0</td>\n",
              "      <td>AMC Pankration</td>\n",
              "      <td>Flyweight</td>\n",
              "      <td>Kirkland, Washington</td>\n",
              "      <td>United States</td>\n",
              "    </tr>\n",
              "  </tbody>\n",
              "</table>\n",
              "</div>"
            ],
            "text/plain": [
              "                                 url  ...        country\n",
              "0      /fighter/Conor-McGregor-29688  ...        Ireland\n",
              "1           /fighter/Jon-Jones-27944  ...  United States\n",
              "2          /fighter/Holly-Holm-75125  ...  United States\n",
              "3       /fighter/Dominick-Cruz-12107  ...  United States\n",
              "4  /fighter/Demetrious-Johnson-45452  ...  United States\n",
              "\n",
              "[5 rows x 11 columns]"
            ]
          },
          "metadata": {
            "tags": []
          },
          "execution_count": 5
        }
      ]
    },
    {
      "cell_type": "code",
      "metadata": {
        "id": "HMkSKFHSuYcj",
        "colab_type": "code",
        "outputId": "6a31bedc-9886-4607-ab28-7ac309252371",
        "colab": {
          "base_uri": "https://localhost:8080/",
          "height": 102
        }
      },
      "source": [
        "#Frequency these unique moves are used, number of unique ways a fight has ended, and number to toal ended fights.\n",
        "fights['method_d'].describe()"
      ],
      "execution_count": 8,
      "outputs": [
        {
          "output_type": "execute_result",
          "data": {
            "text/plain": [
              "count          3549\n",
              "unique          175\n",
              "top       Unanimous\n",
              "freq           1142\n",
              "Name: method_d, dtype: object"
            ]
          },
          "metadata": {
            "tags": []
          },
          "execution_count": 8
        }
      ]
    },
    {
      "cell_type": "markdown",
      "metadata": {
        "id": "RqjO0LrN31Vo",
        "colab_type": "text"
      },
      "source": [
        "40.2% of all UFC fights have ended in a uninimous decision since the first UFC in 1993. "
      ]
    },
    {
      "cell_type": "markdown",
      "metadata": {
        "id": "njp5QIDpbsbP",
        "colab_type": "text"
      },
      "source": [
        "##Most common fight conclusions.\n",
        "\n",
        "in the chart below, we see it's most common for UFC fights to end with a unanimous points decision (40.2% follow this trend), followed by knockouts delivered by punches. "
      ]
    },
    {
      "cell_type": "code",
      "metadata": {
        "id": "76r7xYd-c38n",
        "colab_type": "code",
        "outputId": "01db3e3f-ef09-4517-cb00-66a7de4fbde4",
        "colab": {
          "base_uri": "https://localhost:8080/",
          "height": 424
        }
      },
      "source": [
        "#Graph frequency of fight ending techniques in UFC.\n",
        "\n",
        "fights['method_d'].value_counts().head(20).plot.bar(color = '#CE0B31')\n",
        "plt.title('Top twenty ways a fight ends in UFC', color = '#292929')\n",
        "plt.show()"
      ],
      "execution_count": 9,
      "outputs": [
        {
          "output_type": "display_data",
          "data": {
            "image/png": "[encoded data removed]",
            "text/plain": [
              "<Figure size 432x288 with 1 Axes>"
            ]
          },
          "metadata": {
            "tags": [],
            "needs_background": "light"
          }
        }
      ]
    },
    {
      "cell_type": "markdown",
      "metadata": {
        "id": "Vq8LQ74xm9Fy",
        "colab_type": "text"
      },
      "source": [
        "Okay, so Unanimous decisions are the most common way for a fight to end. This makes sense given UFC fighters are generally of similar weights and skill levels, and skill sets. What factors make this the case though? A good place to look might be looking into which associations are most common, and which of those organizations are most associated with winning UFC fights."
      ]
    },
    {
      "cell_type": "code",
      "metadata": {
        "id": "YF0Vo03RRZPo",
        "colab_type": "code",
        "outputId": "f9258a7e-61d1-4652-80e0-a869f674d36d",
        "colab": {
          "base_uri": "https://localhost:8080/",
          "height": 34
        }
      },
      "source": [
        "#First, let's get a list of all fighters in the UFC.\n",
        "\n",
        "fighters['name'].nunique()"
      ],
      "execution_count": 11,
      "outputs": [
        {
          "output_type": "execute_result",
          "data": {
            "text/plain": [
              "1525"
            ]
          },
          "metadata": {
            "tags": []
          },
          "execution_count": 11
        }
      ]
    },
    {
      "cell_type": "code",
      "metadata": {
        "id": "iW3g1Z1B3MPt",
        "colab_type": "code",
        "outputId": "00f56325-0418-4b89-807f-08d0b08be3de",
        "colab": {
          "base_uri": "https://localhost:8080/",
          "height": 34
        }
      },
      "source": [
        "#Now, let's do the same for associations.\n",
        "fighters['association'].nunique()"
      ],
      "execution_count": 12,
      "outputs": [
        {
          "output_type": "execute_result",
          "data": {
            "text/plain": [
              "651"
            ]
          },
          "metadata": {
            "tags": []
          },
          "execution_count": 12
        }
      ]
    },
    {
      "cell_type": "code",
      "metadata": {
        "id": "NYbjOTfoQmd-",
        "colab_type": "code",
        "outputId": "c5920a2d-e883-4a9c-e1c4-3eba8d5d1558",
        "colab": {
          "base_uri": "https://localhost:8080/",
          "height": 423
        }
      },
      "source": [
        "#Let's look at the top twenty organizations to get an idea of who's on top.\n",
        "fighters['association'].value_counts().head(20).plot.bar(color = '#CE0B31')\n",
        "plt.title('Most common UFC associations', color = '#292929')\n",
        "plt.show()"
      ],
      "execution_count": 13,
      "outputs": [
        {
          "output_type": "display_data",
          "data": {
            "image/png": "[encoded data removed]",
            "text/plain": [
              "<Figure size 432x288 with 1 Axes>"
            ]
          },
          "metadata": {
            "tags": [],
            "needs_background": "light"
          }
        }
      ]
    },
    {
      "cell_type": "markdown",
      "metadata": {
        "id": "K5RZtlGsztPI",
        "colab_type": "text"
      },
      "source": [
        "There's alot of organizations in UFC, but are the largest groups in UFC largest because they produce winners consistently, or did they just produce the most fighters who made it to UFC?"
      ]
    },
    {
      "cell_type": "code",
      "metadata": {
        "id": "goB8tGYe0DfQ",
        "colab_type": "code",
        "colab": {
          "base_uri": "https://localhost:8080/",
          "height": 173
        },
        "outputId": "f7004a09-3e66-4271-9270-18a380a0c493"
      },
      "source": [
        "#First let's see which fighters are associated with the largest association: American Top Team.\n",
        "fighters[['name', 'association']].describe()"
      ],
      "execution_count": 14,
      "outputs": [
        {
          "output_type": "execute_result",
          "data": {
            "text/html": [
              "<div>\n",
              "<style scoped>\n",
              "    .dataframe tbody tr th:only-of-type {\n",
              "        vertical-align: middle;\n",
              "    }\n",
              "\n",
              "    .dataframe tbody tr th {\n",
              "        vertical-align: top;\n",
              "    }\n",
              "\n",
              "    .dataframe thead th {\n",
              "        text-align: right;\n",
              "    }\n",
              "</style>\n",
              "<table border=\"1\" class=\"dataframe\">\n",
              "  <thead>\n",
              "    <tr style=\"text-align: right;\">\n",
              "      <th></th>\n",
              "      <th>name</th>\n",
              "      <th>association</th>\n",
              "    </tr>\n",
              "  </thead>\n",
              "  <tbody>\n",
              "    <tr>\n",
              "      <th>count</th>\n",
              "      <td>1560</td>\n",
              "      <td>1366</td>\n",
              "    </tr>\n",
              "    <tr>\n",
              "      <th>unique</th>\n",
              "      <td>1525</td>\n",
              "      <td>651</td>\n",
              "    </tr>\n",
              "    <tr>\n",
              "      <th>top</th>\n",
              "      <td>Renan Barao</td>\n",
              "      <td>American Top Team</td>\n",
              "    </tr>\n",
              "    <tr>\n",
              "      <th>freq</th>\n",
              "      <td>3</td>\n",
              "      <td>55</td>\n",
              "    </tr>\n",
              "  </tbody>\n",
              "</table>\n",
              "</div>"
            ],
            "text/plain": [
              "               name        association\n",
              "count          1560               1366\n",
              "unique         1525                651\n",
              "top     Renan Barao  American Top Team\n",
              "freq              3                 55"
            ]
          },
          "metadata": {
            "tags": []
          },
          "execution_count": 14
        }
      ]
    },
    {
      "cell_type": "code",
      "metadata": {
        "id": "92HLjU8M-Mlr",
        "colab_type": "code",
        "colab": {
          "base_uri": "https://localhost:8080/",
          "height": 34
        },
        "outputId": "fc1172a6-e3c3-45db-a049-544581c4d14a"
      },
      "source": [
        "#number of extra values in name, how many duplicates are there.\n",
        "1560 - 1525"
      ],
      "execution_count": 15,
      "outputs": [
        {
          "output_type": "execute_result",
          "data": {
            "text/plain": [
              "35"
            ]
          },
          "metadata": {
            "tags": []
          },
          "execution_count": 15
        }
      ]
    },
    {
      "cell_type": "markdown",
      "metadata": {
        "id": "VreabdMP4ghh",
        "colab_type": "text"
      },
      "source": [
        "It looks like alot of fighters aren't associated with an association. Also, some fighters have multiple entries, as many as three apparently."
      ]
    },
    {
      "cell_type": "code",
      "metadata": {
        "id": "4h7jE23w4XQR",
        "colab_type": "code",
        "colab": {
          "base_uri": "https://localhost:8080/",
          "height": 34
        },
        "outputId": "8facf898-4a8c-425c-c932-9d0fad05af90"
      },
      "source": [
        "#Number of \"Rogue\" fighters, those without an association.\n",
        "1525 - 1366"
      ],
      "execution_count": 16,
      "outputs": [
        {
          "output_type": "execute_result",
          "data": {
            "text/plain": [
              "159"
            ]
          },
          "metadata": {
            "tags": []
          },
          "execution_count": 16
        }
      ]
    },
    {
      "cell_type": "markdown",
      "metadata": {
        "id": "t4zsQV-GtmWw",
        "colab_type": "text"
      },
      "source": [
        "Let's look at the top 10 fighters, and see if their most common techniques are different from the most common."
      ]
    },
    {
      "cell_type": "code",
      "metadata": {
        "id": "mPG3LPKTt8eQ",
        "colab_type": "code",
        "outputId": "1c7681ce-6c7e-4dc3-cab3-46e6c317679b",
        "colab": {
          "base_uri": "https://localhost:8080/",
          "height": 173
        }
      },
      "source": [
        "#George St. Pierre #1\n",
        "fights[['f1name', 'f1result']].describe()"
      ],
      "execution_count": 33,
      "outputs": [
        {
          "output_type": "execute_result",
          "data": {
            "text/html": [
              "<div>\n",
              "<style scoped>\n",
              "    .dataframe tbody tr th:only-of-type {\n",
              "        vertical-align: middle;\n",
              "    }\n",
              "\n",
              "    .dataframe tbody tr th {\n",
              "        vertical-align: top;\n",
              "    }\n",
              "\n",
              "    .dataframe thead th {\n",
              "        text-align: right;\n",
              "    }\n",
              "</style>\n",
              "<table border=\"1\" class=\"dataframe\">\n",
              "  <thead>\n",
              "    <tr style=\"text-align: right;\">\n",
              "      <th></th>\n",
              "      <th>f1name</th>\n",
              "      <th>f1result</th>\n",
              "    </tr>\n",
              "  </thead>\n",
              "  <tbody>\n",
              "    <tr>\n",
              "      <th>count</th>\n",
              "      <td>3569</td>\n",
              "      <td>3569</td>\n",
              "    </tr>\n",
              "    <tr>\n",
              "      <th>unique</th>\n",
              "      <td>986</td>\n",
              "      <td>3</td>\n",
              "    </tr>\n",
              "    <tr>\n",
              "      <th>top</th>\n",
              "      <td>Georges St. Pierre</td>\n",
              "      <td>win</td>\n",
              "    </tr>\n",
              "    <tr>\n",
              "      <th>freq</th>\n",
              "      <td>19</td>\n",
              "      <td>3510</td>\n",
              "    </tr>\n",
              "  </tbody>\n",
              "</table>\n",
              "</div>"
            ],
            "text/plain": [
              "                    f1name f1result\n",
              "count                 3569     3569\n",
              "unique                 986        3\n",
              "top     Georges St. Pierre      win\n",
              "freq                    19     3510"
            ]
          },
          "metadata": {
            "tags": []
          },
          "execution_count": 33
        }
      ]
    },
    {
      "cell_type": "code",
      "metadata": {
        "id": "tNWKPBfWGlGL",
        "colab_type": "code",
        "colab": {}
      },
      "source": [
        "# Remove George St. Pierre from copied list to see who has the second highest wins.\n",
        "top_100 = []\n",
        "top_100.append('George St. Pierre')"
      ],
      "execution_count": 0,
      "outputs": []
    },
    {
      "cell_type": "code",
      "metadata": {
        "id": "jGlA6vKzIX0y",
        "colab_type": "code",
        "colab": {}
      },
      "source": [
        "f2 = fights[fights.f1name != 'Georges St. Pierre']"
      ],
      "execution_count": 0,
      "outputs": []
    },
    {
      "cell_type": "code",
      "metadata": {
        "id": "9ZF3NpLzIZ60",
        "colab_type": "code",
        "outputId": "11fc4e30-eda1-4959-ac7e-d077268812aa",
        "colab": {
          "base_uri": "https://localhost:8080/",
          "height": 173
        }
      },
      "source": [
        "f2[['f1name', 'f1result']].describe()"
      ],
      "execution_count": 36,
      "outputs": [
        {
          "output_type": "execute_result",
          "data": {
            "text/html": [
              "<div>\n",
              "<style scoped>\n",
              "    .dataframe tbody tr th:only-of-type {\n",
              "        vertical-align: middle;\n",
              "    }\n",
              "\n",
              "    .dataframe tbody tr th {\n",
              "        vertical-align: top;\n",
              "    }\n",
              "\n",
              "    .dataframe thead th {\n",
              "        text-align: right;\n",
              "    }\n",
              "</style>\n",
              "<table border=\"1\" class=\"dataframe\">\n",
              "  <thead>\n",
              "    <tr style=\"text-align: right;\">\n",
              "      <th></th>\n",
              "      <th>f1name</th>\n",
              "      <th>f1result</th>\n",
              "    </tr>\n",
              "  </thead>\n",
              "  <tbody>\n",
              "    <tr>\n",
              "      <th>count</th>\n",
              "      <td>3550</td>\n",
              "      <td>3550</td>\n",
              "    </tr>\n",
              "    <tr>\n",
              "      <th>unique</th>\n",
              "      <td>985</td>\n",
              "      <td>3</td>\n",
              "    </tr>\n",
              "    <tr>\n",
              "      <th>top</th>\n",
              "      <td>Matt Hughes</td>\n",
              "      <td>win</td>\n",
              "    </tr>\n",
              "    <tr>\n",
              "      <th>freq</th>\n",
              "      <td>18</td>\n",
              "      <td>3491</td>\n",
              "    </tr>\n",
              "  </tbody>\n",
              "</table>\n",
              "</div>"
            ],
            "text/plain": [
              "             f1name f1result\n",
              "count          3550     3550\n",
              "unique          985        3\n",
              "top     Matt Hughes      win\n",
              "freq             18     3491"
            ]
          },
          "metadata": {
            "tags": []
          },
          "execution_count": 36
        }
      ]
    },
    {
      "cell_type": "code",
      "metadata": {
        "id": "LJVFx5tYI4Zq",
        "colab_type": "code",
        "colab": {}
      },
      "source": [
        "#Matt Hughes is number 2"
      ],
      "execution_count": 0,
      "outputs": []
    },
    {
      "cell_type": "code",
      "metadata": {
        "id": "4XzcCQtAI908",
        "colab_type": "code",
        "colab": {}
      },
      "source": [
        "f3 = f2[f2.f1name != 'Matt Hughes']"
      ],
      "execution_count": 0,
      "outputs": []
    },
    {
      "cell_type": "code",
      "metadata": {
        "id": "lan3HgUzJHad",
        "colab_type": "code",
        "colab": {
          "base_uri": "https://localhost:8080/",
          "height": 173
        },
        "outputId": "c116a4ea-4127-4c47-eef3-5a2342d7cf35"
      },
      "source": [
        "f3[['f1name', 'f1result']].describe()"
      ],
      "execution_count": 39,
      "outputs": [
        {
          "output_type": "execute_result",
          "data": {
            "text/html": [
              "<div>\n",
              "<style scoped>\n",
              "    .dataframe tbody tr th:only-of-type {\n",
              "        vertical-align: middle;\n",
              "    }\n",
              "\n",
              "    .dataframe tbody tr th {\n",
              "        vertical-align: top;\n",
              "    }\n",
              "\n",
              "    .dataframe thead th {\n",
              "        text-align: right;\n",
              "    }\n",
              "</style>\n",
              "<table border=\"1\" class=\"dataframe\">\n",
              "  <thead>\n",
              "    <tr style=\"text-align: right;\">\n",
              "      <th></th>\n",
              "      <th>f1name</th>\n",
              "      <th>f1result</th>\n",
              "    </tr>\n",
              "  </thead>\n",
              "  <tbody>\n",
              "    <tr>\n",
              "      <th>count</th>\n",
              "      <td>3532</td>\n",
              "      <td>3532</td>\n",
              "    </tr>\n",
              "    <tr>\n",
              "      <th>unique</th>\n",
              "      <td>984</td>\n",
              "      <td>3</td>\n",
              "    </tr>\n",
              "    <tr>\n",
              "      <th>top</th>\n",
              "      <td>Michael Bisping</td>\n",
              "      <td>win</td>\n",
              "    </tr>\n",
              "    <tr>\n",
              "      <th>freq</th>\n",
              "      <td>17</td>\n",
              "      <td>3473</td>\n",
              "    </tr>\n",
              "  </tbody>\n",
              "</table>\n",
              "</div>"
            ],
            "text/plain": [
              "                 f1name f1result\n",
              "count              3532     3532\n",
              "unique              984        3\n",
              "top     Michael Bisping      win\n",
              "freq                 17     3473"
            ]
          },
          "metadata": {
            "tags": []
          },
          "execution_count": 39
        }
      ]
    },
    {
      "cell_type": "code",
      "metadata": {
        "id": "sX_W7DQyJKDi",
        "colab_type": "code",
        "colab": {}
      },
      "source": [
        "#Gleison Tibau is number 3"
      ],
      "execution_count": 0,
      "outputs": []
    },
    {
      "cell_type": "code",
      "metadata": {
        "id": "9kOYW6aGJSBq",
        "colab_type": "code",
        "colab": {}
      },
      "source": [
        "f4 = f3[f3.f1name != 'Gleison Tibau']"
      ],
      "execution_count": 0,
      "outputs": []
    },
    {
      "cell_type": "code",
      "metadata": {
        "id": "3xcWdpN3JSAk",
        "colab_type": "code",
        "colab": {
          "base_uri": "https://localhost:8080/",
          "height": 173
        },
        "outputId": "98bab333-0bc7-483d-d05e-9bda74fa9899"
      },
      "source": [
        "f4[['f1name', 'f1result']].describe()"
      ],
      "execution_count": 42,
      "outputs": [
        {
          "output_type": "execute_result",
          "data": {
            "text/html": [
              "<div>\n",
              "<style scoped>\n",
              "    .dataframe tbody tr th:only-of-type {\n",
              "        vertical-align: middle;\n",
              "    }\n",
              "\n",
              "    .dataframe tbody tr th {\n",
              "        vertical-align: top;\n",
              "    }\n",
              "\n",
              "    .dataframe thead th {\n",
              "        text-align: right;\n",
              "    }\n",
              "</style>\n",
              "<table border=\"1\" class=\"dataframe\">\n",
              "  <thead>\n",
              "    <tr style=\"text-align: right;\">\n",
              "      <th></th>\n",
              "      <th>f1name</th>\n",
              "      <th>f1result</th>\n",
              "    </tr>\n",
              "  </thead>\n",
              "  <tbody>\n",
              "    <tr>\n",
              "      <th>count</th>\n",
              "      <td>3515</td>\n",
              "      <td>3515</td>\n",
              "    </tr>\n",
              "    <tr>\n",
              "      <th>unique</th>\n",
              "      <td>983</td>\n",
              "      <td>3</td>\n",
              "    </tr>\n",
              "    <tr>\n",
              "      <th>top</th>\n",
              "      <td>Anderson Silva</td>\n",
              "      <td>win</td>\n",
              "    </tr>\n",
              "    <tr>\n",
              "      <th>freq</th>\n",
              "      <td>17</td>\n",
              "      <td>3456</td>\n",
              "    </tr>\n",
              "  </tbody>\n",
              "</table>\n",
              "</div>"
            ],
            "text/plain": [
              "                f1name f1result\n",
              "count             3515     3515\n",
              "unique             983        3\n",
              "top     Anderson Silva      win\n",
              "freq                17     3456"
            ]
          },
          "metadata": {
            "tags": []
          },
          "execution_count": 42
        }
      ]
    },
    {
      "cell_type": "code",
      "metadata": {
        "id": "GW90_fGGJs1m",
        "colab_type": "code",
        "colab": {
          "base_uri": "https://localhost:8080/",
          "height": 173
        },
        "outputId": "f4aef3b0-4a40-4865-bc2f-54fa7d88c1db"
      },
      "source": [
        "#Anderson Silva is number 4\n",
        "f5 = f4[f4.f1name != 'Anderson Silva']\n",
        "f5[['f1name', 'f1result']].describe()"
      ],
      "execution_count": 43,
      "outputs": [
        {
          "output_type": "execute_result",
          "data": {
            "text/html": [
              "<div>\n",
              "<style scoped>\n",
              "    .dataframe tbody tr th:only-of-type {\n",
              "        vertical-align: middle;\n",
              "    }\n",
              "\n",
              "    .dataframe tbody tr th {\n",
              "        vertical-align: top;\n",
              "    }\n",
              "\n",
              "    .dataframe thead th {\n",
              "        text-align: right;\n",
              "    }\n",
              "</style>\n",
              "<table border=\"1\" class=\"dataframe\">\n",
              "  <thead>\n",
              "    <tr style=\"text-align: right;\">\n",
              "      <th></th>\n",
              "      <th>f1name</th>\n",
              "      <th>f1result</th>\n",
              "    </tr>\n",
              "  </thead>\n",
              "  <tbody>\n",
              "    <tr>\n",
              "      <th>count</th>\n",
              "      <td>3498</td>\n",
              "      <td>3498</td>\n",
              "    </tr>\n",
              "    <tr>\n",
              "      <th>unique</th>\n",
              "      <td>982</td>\n",
              "      <td>3</td>\n",
              "    </tr>\n",
              "    <tr>\n",
              "      <th>top</th>\n",
              "      <td>Michael Bisping</td>\n",
              "      <td>win</td>\n",
              "    </tr>\n",
              "    <tr>\n",
              "      <th>freq</th>\n",
              "      <td>17</td>\n",
              "      <td>3440</td>\n",
              "    </tr>\n",
              "  </tbody>\n",
              "</table>\n",
              "</div>"
            ],
            "text/plain": [
              "                 f1name f1result\n",
              "count              3498     3498\n",
              "unique              982        3\n",
              "top     Michael Bisping      win\n",
              "freq                 17     3440"
            ]
          },
          "metadata": {
            "tags": []
          },
          "execution_count": 43
        }
      ]
    },
    {
      "cell_type": "code",
      "metadata": {
        "id": "vQycFkZLKA-b",
        "colab_type": "code",
        "colab": {
          "base_uri": "https://localhost:8080/",
          "height": 173
        },
        "outputId": "34e166c6-8683-4cef-a155-f912263300f7"
      },
      "source": [
        "#Michael Bisping is number 5\n",
        "f6 = f5[f5.f1name != 'Michael Bisping']\n",
        "f6[['f1name', 'f1result']].describe()"
      ],
      "execution_count": 44,
      "outputs": [
        {
          "output_type": "execute_result",
          "data": {
            "text/html": [
              "<div>\n",
              "<style scoped>\n",
              "    .dataframe tbody tr th:only-of-type {\n",
              "        vertical-align: middle;\n",
              "    }\n",
              "\n",
              "    .dataframe tbody tr th {\n",
              "        vertical-align: top;\n",
              "    }\n",
              "\n",
              "    .dataframe thead th {\n",
              "        text-align: right;\n",
              "    }\n",
              "</style>\n",
              "<table border=\"1\" class=\"dataframe\">\n",
              "  <thead>\n",
              "    <tr style=\"text-align: right;\">\n",
              "      <th></th>\n",
              "      <th>f1name</th>\n",
              "      <th>f1result</th>\n",
              "    </tr>\n",
              "  </thead>\n",
              "  <tbody>\n",
              "    <tr>\n",
              "      <th>count</th>\n",
              "      <td>3481</td>\n",
              "      <td>3481</td>\n",
              "    </tr>\n",
              "    <tr>\n",
              "      <th>unique</th>\n",
              "      <td>981</td>\n",
              "      <td>3</td>\n",
              "    </tr>\n",
              "    <tr>\n",
              "      <th>top</th>\n",
              "      <td>Chuck Liddell</td>\n",
              "      <td>win</td>\n",
              "    </tr>\n",
              "    <tr>\n",
              "      <th>freq</th>\n",
              "      <td>16</td>\n",
              "      <td>3423</td>\n",
              "    </tr>\n",
              "  </tbody>\n",
              "</table>\n",
              "</div>"
            ],
            "text/plain": [
              "               f1name f1result\n",
              "count            3481     3481\n",
              "unique            981        3\n",
              "top     Chuck Liddell      win\n",
              "freq               16     3423"
            ]
          },
          "metadata": {
            "tags": []
          },
          "execution_count": 44
        }
      ]
    },
    {
      "cell_type": "code",
      "metadata": {
        "id": "9cSTutiYKWo_",
        "colab_type": "code",
        "colab": {
          "base_uri": "https://localhost:8080/",
          "height": 173
        },
        "outputId": "ed4c0385-6b79-4eab-e811-783c55593e2e"
      },
      "source": [
        "#\tFrank Mir is number 6\n",
        "f7 = f6[f6.f1name != 'Frank Mir']\n",
        "f7[['f1name', 'f1result']].describe()"
      ],
      "execution_count": 45,
      "outputs": [
        {
          "output_type": "execute_result",
          "data": {
            "text/html": [
              "<div>\n",
              "<style scoped>\n",
              "    .dataframe tbody tr th:only-of-type {\n",
              "        vertical-align: middle;\n",
              "    }\n",
              "\n",
              "    .dataframe tbody tr th {\n",
              "        vertical-align: top;\n",
              "    }\n",
              "\n",
              "    .dataframe thead th {\n",
              "        text-align: right;\n",
              "    }\n",
              "</style>\n",
              "<table border=\"1\" class=\"dataframe\">\n",
              "  <thead>\n",
              "    <tr style=\"text-align: right;\">\n",
              "      <th></th>\n",
              "      <th>f1name</th>\n",
              "      <th>f1result</th>\n",
              "    </tr>\n",
              "  </thead>\n",
              "  <tbody>\n",
              "    <tr>\n",
              "      <th>count</th>\n",
              "      <td>3465</td>\n",
              "      <td>3465</td>\n",
              "    </tr>\n",
              "    <tr>\n",
              "      <th>unique</th>\n",
              "      <td>980</td>\n",
              "      <td>3</td>\n",
              "    </tr>\n",
              "    <tr>\n",
              "      <th>top</th>\n",
              "      <td>Demian Maia</td>\n",
              "      <td>win</td>\n",
              "    </tr>\n",
              "    <tr>\n",
              "      <th>freq</th>\n",
              "      <td>16</td>\n",
              "      <td>3407</td>\n",
              "    </tr>\n",
              "  </tbody>\n",
              "</table>\n",
              "</div>"
            ],
            "text/plain": [
              "             f1name f1result\n",
              "count          3465     3465\n",
              "unique          980        3\n",
              "top     Demian Maia      win\n",
              "freq             16     3407"
            ]
          },
          "metadata": {
            "tags": []
          },
          "execution_count": 45
        }
      ]
    },
    {
      "cell_type": "code",
      "metadata": {
        "id": "lzJdnYONL1x0",
        "colab_type": "code",
        "colab": {
          "base_uri": "https://localhost:8080/",
          "height": 173
        },
        "outputId": "d1cfff3b-cd3d-434f-d902-e7e8f545ef59"
      },
      "source": [
        "#\tChuck Liddell is number 7\n",
        "f8 = f7[f7.f1name != 'Chuck Liddell']\n",
        "f8[['f1name', 'f1result']].describe()"
      ],
      "execution_count": 46,
      "outputs": [
        {
          "output_type": "execute_result",
          "data": {
            "text/html": [
              "<div>\n",
              "<style scoped>\n",
              "    .dataframe tbody tr th:only-of-type {\n",
              "        vertical-align: middle;\n",
              "    }\n",
              "\n",
              "    .dataframe tbody tr th {\n",
              "        vertical-align: top;\n",
              "    }\n",
              "\n",
              "    .dataframe thead th {\n",
              "        text-align: right;\n",
              "    }\n",
              "</style>\n",
              "<table border=\"1\" class=\"dataframe\">\n",
              "  <thead>\n",
              "    <tr style=\"text-align: right;\">\n",
              "      <th></th>\n",
              "      <th>f1name</th>\n",
              "      <th>f1result</th>\n",
              "    </tr>\n",
              "  </thead>\n",
              "  <tbody>\n",
              "    <tr>\n",
              "      <th>count</th>\n",
              "      <td>3449</td>\n",
              "      <td>3449</td>\n",
              "    </tr>\n",
              "    <tr>\n",
              "      <th>unique</th>\n",
              "      <td>979</td>\n",
              "      <td>3</td>\n",
              "    </tr>\n",
              "    <tr>\n",
              "      <th>top</th>\n",
              "      <td>Donald Cerrone</td>\n",
              "      <td>win</td>\n",
              "    </tr>\n",
              "    <tr>\n",
              "      <th>freq</th>\n",
              "      <td>16</td>\n",
              "      <td>3391</td>\n",
              "    </tr>\n",
              "  </tbody>\n",
              "</table>\n",
              "</div>"
            ],
            "text/plain": [
              "                f1name f1result\n",
              "count             3449     3449\n",
              "unique             979        3\n",
              "top     Donald Cerrone      win\n",
              "freq                16     3391"
            ]
          },
          "metadata": {
            "tags": []
          },
          "execution_count": 46
        }
      ]
    },
    {
      "cell_type": "code",
      "metadata": {
        "id": "-EtVQmmVMBl0",
        "colab_type": "code",
        "colab": {
          "base_uri": "https://localhost:8080/",
          "height": 173
        },
        "outputId": "42ccdc4e-9b29-4a35-d91d-c4cbdc87079b"
      },
      "source": [
        "#\tDemian Maia is number 8\n",
        "f9 = f8[f8.f1name != 'Demian Maia']\n",
        "f9[['f1name', 'f1result']].describe()"
      ],
      "execution_count": 47,
      "outputs": [
        {
          "output_type": "execute_result",
          "data": {
            "text/html": [
              "<div>\n",
              "<style scoped>\n",
              "    .dataframe tbody tr th:only-of-type {\n",
              "        vertical-align: middle;\n",
              "    }\n",
              "\n",
              "    .dataframe tbody tr th {\n",
              "        vertical-align: top;\n",
              "    }\n",
              "\n",
              "    .dataframe thead th {\n",
              "        text-align: right;\n",
              "    }\n",
              "</style>\n",
              "<table border=\"1\" class=\"dataframe\">\n",
              "  <thead>\n",
              "    <tr style=\"text-align: right;\">\n",
              "      <th></th>\n",
              "      <th>f1name</th>\n",
              "      <th>f1result</th>\n",
              "    </tr>\n",
              "  </thead>\n",
              "  <tbody>\n",
              "    <tr>\n",
              "      <th>count</th>\n",
              "      <td>3433</td>\n",
              "      <td>3433</td>\n",
              "    </tr>\n",
              "    <tr>\n",
              "      <th>unique</th>\n",
              "      <td>978</td>\n",
              "      <td>3</td>\n",
              "    </tr>\n",
              "    <tr>\n",
              "      <th>top</th>\n",
              "      <td>Donald Cerrone</td>\n",
              "      <td>win</td>\n",
              "    </tr>\n",
              "    <tr>\n",
              "      <th>freq</th>\n",
              "      <td>16</td>\n",
              "      <td>3375</td>\n",
              "    </tr>\n",
              "  </tbody>\n",
              "</table>\n",
              "</div>"
            ],
            "text/plain": [
              "                f1name f1result\n",
              "count             3433     3433\n",
              "unique             978        3\n",
              "top     Donald Cerrone      win\n",
              "freq                16     3375"
            ]
          },
          "metadata": {
            "tags": []
          },
          "execution_count": 47
        }
      ]
    },
    {
      "cell_type": "code",
      "metadata": {
        "id": "nOd0j7yDMXIi",
        "colab_type": "code",
        "colab": {
          "base_uri": "https://localhost:8080/",
          "height": 173
        },
        "outputId": "6c5a9a62-446a-4e25-df7e-29f64c72250d"
      },
      "source": [
        "#Donald Cerrone is number 9\n",
        "f10 = f9[f9.f1name != 'Donald Cerrone']\n",
        "f10[['f1name', 'f1result']].describe()"
      ],
      "execution_count": 48,
      "outputs": [
        {
          "output_type": "execute_result",
          "data": {
            "text/html": [
              "<div>\n",
              "<style scoped>\n",
              "    .dataframe tbody tr th:only-of-type {\n",
              "        vertical-align: middle;\n",
              "    }\n",
              "\n",
              "    .dataframe tbody tr th {\n",
              "        vertical-align: top;\n",
              "    }\n",
              "\n",
              "    .dataframe thead th {\n",
              "        text-align: right;\n",
              "    }\n",
              "</style>\n",
              "<table border=\"1\" class=\"dataframe\">\n",
              "  <thead>\n",
              "    <tr style=\"text-align: right;\">\n",
              "      <th></th>\n",
              "      <th>f1name</th>\n",
              "      <th>f1result</th>\n",
              "    </tr>\n",
              "  </thead>\n",
              "  <tbody>\n",
              "    <tr>\n",
              "      <th>count</th>\n",
              "      <td>3417</td>\n",
              "      <td>3417</td>\n",
              "    </tr>\n",
              "    <tr>\n",
              "      <th>unique</th>\n",
              "      <td>977</td>\n",
              "      <td>3</td>\n",
              "    </tr>\n",
              "    <tr>\n",
              "      <th>top</th>\n",
              "      <td>Frankie Edgar</td>\n",
              "      <td>win</td>\n",
              "    </tr>\n",
              "    <tr>\n",
              "      <th>freq</th>\n",
              "      <td>15</td>\n",
              "      <td>3359</td>\n",
              "    </tr>\n",
              "  </tbody>\n",
              "</table>\n",
              "</div>"
            ],
            "text/plain": [
              "               f1name f1result\n",
              "count            3417     3417\n",
              "unique            977        3\n",
              "top     Frankie Edgar      win\n",
              "freq               15     3359"
            ]
          },
          "metadata": {
            "tags": []
          },
          "execution_count": 48
        }
      ]
    },
    {
      "cell_type": "code",
      "metadata": {
        "id": "hsf1X_-sMkTn",
        "colab_type": "code",
        "colab": {
          "base_uri": "https://localhost:8080/",
          "height": 173
        },
        "outputId": "a1202ee4-51cf-4105-c7fe-2ce5f4e775a3"
      },
      "source": [
        "#Frankie Edgar is number 10\n",
        "f11 = f10[f10.f1name != 'Frankie Edgar']\n",
        "f11[['f1name', 'f1result']].describe()"
      ],
      "execution_count": 49,
      "outputs": [
        {
          "output_type": "execute_result",
          "data": {
            "text/html": [
              "<div>\n",
              "<style scoped>\n",
              "    .dataframe tbody tr th:only-of-type {\n",
              "        vertical-align: middle;\n",
              "    }\n",
              "\n",
              "    .dataframe tbody tr th {\n",
              "        vertical-align: top;\n",
              "    }\n",
              "\n",
              "    .dataframe thead th {\n",
              "        text-align: right;\n",
              "    }\n",
              "</style>\n",
              "<table border=\"1\" class=\"dataframe\">\n",
              "  <thead>\n",
              "    <tr style=\"text-align: right;\">\n",
              "      <th></th>\n",
              "      <th>f1name</th>\n",
              "      <th>f1result</th>\n",
              "    </tr>\n",
              "  </thead>\n",
              "  <tbody>\n",
              "    <tr>\n",
              "      <th>count</th>\n",
              "      <td>3402</td>\n",
              "      <td>3402</td>\n",
              "    </tr>\n",
              "    <tr>\n",
              "      <th>unique</th>\n",
              "      <td>976</td>\n",
              "      <td>3</td>\n",
              "    </tr>\n",
              "    <tr>\n",
              "      <th>top</th>\n",
              "      <td>Jon Jones</td>\n",
              "      <td>win</td>\n",
              "    </tr>\n",
              "    <tr>\n",
              "      <th>freq</th>\n",
              "      <td>15</td>\n",
              "      <td>3345</td>\n",
              "    </tr>\n",
              "  </tbody>\n",
              "</table>\n",
              "</div>"
            ],
            "text/plain": [
              "           f1name f1result\n",
              "count        3402     3402\n",
              "unique        976        3\n",
              "top     Jon Jones      win\n",
              "freq           15     3345"
            ]
          },
          "metadata": {
            "tags": []
          },
          "execution_count": 49
        }
      ]
    },
    {
      "cell_type": "markdown",
      "metadata": {
        "id": "cFeD1B4MP8rS",
        "colab_type": "text"
      },
      "source": [
        "Our top 10:\n",
        "\n",
        "1. Georges St. Pierre\n",
        "\n",
        "2. Matt Hughes\n",
        "\n",
        "3. Gleison Tibau\n",
        "\n",
        "4. Anderson Silva\n",
        "\n",
        "5. Michael Bisping\n",
        "\n",
        "6. Frank Mir\n",
        "\n",
        "7. Chuck Liddel\n",
        "\n",
        "8. Demian Maia\n",
        "\n",
        "9. Donald Cerrone\t\n",
        "\n",
        "10. Frankie Edgar\t"
      ]
    },
    {
      "cell_type": "code",
      "metadata": {
        "id": "pDFvlroGQXFs",
        "colab_type": "code",
        "colab": {}
      },
      "source": [
        "#resetting the CSV\n",
        "fights = pd.read_csv('ALL UFC FIGHTS 2_23_2016 SHERDOG.COM - Sheet1.csv')"
      ],
      "execution_count": 0,
      "outputs": []
    },
    {
      "cell_type": "code",
      "metadata": {
        "id": "7mplbVrDQaSI",
        "colab_type": "code",
        "colab": {
          "base_uri": "https://localhost:8080/",
          "height": 173
        },
        "outputId": "5fc33eda-b693-47f8-e661-d818278adeec"
      },
      "source": [
        "#George St. Pierre's favorite ending technique was uninimous.\n",
        "\n",
        "fights[['f1name', 'method_d']].describe()"
      ],
      "execution_count": 51,
      "outputs": [
        {
          "output_type": "execute_result",
          "data": {
            "text/html": [
              "<div>\n",
              "<style scoped>\n",
              "    .dataframe tbody tr th:only-of-type {\n",
              "        vertical-align: middle;\n",
              "    }\n",
              "\n",
              "    .dataframe tbody tr th {\n",
              "        vertical-align: top;\n",
              "    }\n",
              "\n",
              "    .dataframe thead th {\n",
              "        text-align: right;\n",
              "    }\n",
              "</style>\n",
              "<table border=\"1\" class=\"dataframe\">\n",
              "  <thead>\n",
              "    <tr style=\"text-align: right;\">\n",
              "      <th></th>\n",
              "      <th>f1name</th>\n",
              "      <th>method_d</th>\n",
              "    </tr>\n",
              "  </thead>\n",
              "  <tbody>\n",
              "    <tr>\n",
              "      <th>count</th>\n",
              "      <td>3569</td>\n",
              "      <td>3549</td>\n",
              "    </tr>\n",
              "    <tr>\n",
              "      <th>unique</th>\n",
              "      <td>986</td>\n",
              "      <td>175</td>\n",
              "    </tr>\n",
              "    <tr>\n",
              "      <th>top</th>\n",
              "      <td>Georges St. Pierre</td>\n",
              "      <td>Unanimous</td>\n",
              "    </tr>\n",
              "    <tr>\n",
              "      <th>freq</th>\n",
              "      <td>19</td>\n",
              "      <td>1142</td>\n",
              "    </tr>\n",
              "  </tbody>\n",
              "</table>\n",
              "</div>"
            ],
            "text/plain": [
              "                    f1name   method_d\n",
              "count                 3569       3549\n",
              "unique                 986        175\n",
              "top     Georges St. Pierre  Unanimous\n",
              "freq                    19       1142"
            ]
          },
          "metadata": {
            "tags": []
          },
          "execution_count": 51
        }
      ]
    },
    {
      "cell_type": "code",
      "metadata": {
        "id": "OFS617T0RKKr",
        "colab_type": "code",
        "colab": {
          "base_uri": "https://localhost:8080/",
          "height": 173
        },
        "outputId": "cbc63986-dfdc-49cd-cae1-b70002eacb75"
      },
      "source": [
        "#Matt Hughes is also unanimous.\n",
        "\n",
        "f2[['f1name', 'method_d']].describe()"
      ],
      "execution_count": 52,
      "outputs": [
        {
          "output_type": "execute_result",
          "data": {
            "text/html": [
              "<div>\n",
              "<style scoped>\n",
              "    .dataframe tbody tr th:only-of-type {\n",
              "        vertical-align: middle;\n",
              "    }\n",
              "\n",
              "    .dataframe tbody tr th {\n",
              "        vertical-align: top;\n",
              "    }\n",
              "\n",
              "    .dataframe thead th {\n",
              "        text-align: right;\n",
              "    }\n",
              "</style>\n",
              "<table border=\"1\" class=\"dataframe\">\n",
              "  <thead>\n",
              "    <tr style=\"text-align: right;\">\n",
              "      <th></th>\n",
              "      <th>f1name</th>\n",
              "      <th>method_d</th>\n",
              "    </tr>\n",
              "  </thead>\n",
              "  <tbody>\n",
              "    <tr>\n",
              "      <th>count</th>\n",
              "      <td>3550</td>\n",
              "      <td>3530</td>\n",
              "    </tr>\n",
              "    <tr>\n",
              "      <th>unique</th>\n",
              "      <td>985</td>\n",
              "      <td>175</td>\n",
              "    </tr>\n",
              "    <tr>\n",
              "      <th>top</th>\n",
              "      <td>Matt Hughes</td>\n",
              "      <td>Unanimous</td>\n",
              "    </tr>\n",
              "    <tr>\n",
              "      <th>freq</th>\n",
              "      <td>18</td>\n",
              "      <td>1132</td>\n",
              "    </tr>\n",
              "  </tbody>\n",
              "</table>\n",
              "</div>"
            ],
            "text/plain": [
              "             f1name   method_d\n",
              "count          3550       3530\n",
              "unique          985        175\n",
              "top     Matt Hughes  Unanimous\n",
              "freq             18       1132"
            ]
          },
          "metadata": {
            "tags": []
          },
          "execution_count": 52
        }
      ]
    },
    {
      "cell_type": "code",
      "metadata": {
        "id": "aeu93I97RRcc",
        "colab_type": "code",
        "colab": {
          "base_uri": "https://localhost:8080/",
          "height": 173
        },
        "outputId": "da52357b-ad72-43ab-f2ff-9728ea6d8860"
      },
      "source": [
        "#Gleison Tibau\n",
        "\n",
        "f3[['f1name', 'method_d']].describe()"
      ],
      "execution_count": 53,
      "outputs": [
        {
          "output_type": "execute_result",
          "data": {
            "text/html": [
              "<div>\n",
              "<style scoped>\n",
              "    .dataframe tbody tr th:only-of-type {\n",
              "        vertical-align: middle;\n",
              "    }\n",
              "\n",
              "    .dataframe tbody tr th {\n",
              "        vertical-align: top;\n",
              "    }\n",
              "\n",
              "    .dataframe thead th {\n",
              "        text-align: right;\n",
              "    }\n",
              "</style>\n",
              "<table border=\"1\" class=\"dataframe\">\n",
              "  <thead>\n",
              "    <tr style=\"text-align: right;\">\n",
              "      <th></th>\n",
              "      <th>f1name</th>\n",
              "      <th>method_d</th>\n",
              "    </tr>\n",
              "  </thead>\n",
              "  <tbody>\n",
              "    <tr>\n",
              "      <th>count</th>\n",
              "      <td>3532</td>\n",
              "      <td>3512</td>\n",
              "    </tr>\n",
              "    <tr>\n",
              "      <th>unique</th>\n",
              "      <td>984</td>\n",
              "      <td>175</td>\n",
              "    </tr>\n",
              "    <tr>\n",
              "      <th>top</th>\n",
              "      <td>Michael Bisping</td>\n",
              "      <td>Unanimous</td>\n",
              "    </tr>\n",
              "    <tr>\n",
              "      <th>freq</th>\n",
              "      <td>17</td>\n",
              "      <td>1127</td>\n",
              "    </tr>\n",
              "  </tbody>\n",
              "</table>\n",
              "</div>"
            ],
            "text/plain": [
              "                 f1name   method_d\n",
              "count              3532       3512\n",
              "unique              984        175\n",
              "top     Michael Bisping  Unanimous\n",
              "freq                 17       1127"
            ]
          },
          "metadata": {
            "tags": []
          },
          "execution_count": 53
        }
      ]
    },
    {
      "cell_type": "code",
      "metadata": {
        "id": "ASx0u2udRYfm",
        "colab_type": "code",
        "colab": {
          "base_uri": "https://localhost:8080/",
          "height": 173
        },
        "outputId": "c052b0ef-077a-47f0-b98b-c50f98c2ab7d"
      },
      "source": [
        "f4[['f1name', 'method_d']].describe()"
      ],
      "execution_count": 54,
      "outputs": [
        {
          "output_type": "execute_result",
          "data": {
            "text/html": [
              "<div>\n",
              "<style scoped>\n",
              "    .dataframe tbody tr th:only-of-type {\n",
              "        vertical-align: middle;\n",
              "    }\n",
              "\n",
              "    .dataframe tbody tr th {\n",
              "        vertical-align: top;\n",
              "    }\n",
              "\n",
              "    .dataframe thead th {\n",
              "        text-align: right;\n",
              "    }\n",
              "</style>\n",
              "<table border=\"1\" class=\"dataframe\">\n",
              "  <thead>\n",
              "    <tr style=\"text-align: right;\">\n",
              "      <th></th>\n",
              "      <th>f1name</th>\n",
              "      <th>method_d</th>\n",
              "    </tr>\n",
              "  </thead>\n",
              "  <tbody>\n",
              "    <tr>\n",
              "      <th>count</th>\n",
              "      <td>3515</td>\n",
              "      <td>3495</td>\n",
              "    </tr>\n",
              "    <tr>\n",
              "      <th>unique</th>\n",
              "      <td>983</td>\n",
              "      <td>175</td>\n",
              "    </tr>\n",
              "    <tr>\n",
              "      <th>top</th>\n",
              "      <td>Anderson Silva</td>\n",
              "      <td>Unanimous</td>\n",
              "    </tr>\n",
              "    <tr>\n",
              "      <th>freq</th>\n",
              "      <td>17</td>\n",
              "      <td>1121</td>\n",
              "    </tr>\n",
              "  </tbody>\n",
              "</table>\n",
              "</div>"
            ],
            "text/plain": [
              "                f1name   method_d\n",
              "count             3515       3495\n",
              "unique             983        175\n",
              "top     Anderson Silva  Unanimous\n",
              "freq                17       1121"
            ]
          },
          "metadata": {
            "tags": []
          },
          "execution_count": 54
        }
      ]
    },
    {
      "cell_type": "code",
      "metadata": {
        "id": "zeMC2ThwRiBb",
        "colab_type": "code",
        "colab": {
          "base_uri": "https://localhost:8080/",
          "height": 173
        },
        "outputId": "6912a5f2-9a38-4535-c9b2-134911ea8e6f"
      },
      "source": [
        "f6[['f1name', 'method_d']].describe()"
      ],
      "execution_count": 55,
      "outputs": [
        {
          "output_type": "execute_result",
          "data": {
            "text/html": [
              "<div>\n",
              "<style scoped>\n",
              "    .dataframe tbody tr th:only-of-type {\n",
              "        vertical-align: middle;\n",
              "    }\n",
              "\n",
              "    .dataframe tbody tr th {\n",
              "        vertical-align: top;\n",
              "    }\n",
              "\n",
              "    .dataframe thead th {\n",
              "        text-align: right;\n",
              "    }\n",
              "</style>\n",
              "<table border=\"1\" class=\"dataframe\">\n",
              "  <thead>\n",
              "    <tr style=\"text-align: right;\">\n",
              "      <th></th>\n",
              "      <th>f1name</th>\n",
              "      <th>method_d</th>\n",
              "    </tr>\n",
              "  </thead>\n",
              "  <tbody>\n",
              "    <tr>\n",
              "      <th>count</th>\n",
              "      <td>3481</td>\n",
              "      <td>3461</td>\n",
              "    </tr>\n",
              "    <tr>\n",
              "      <th>unique</th>\n",
              "      <td>981</td>\n",
              "      <td>173</td>\n",
              "    </tr>\n",
              "    <tr>\n",
              "      <th>top</th>\n",
              "      <td>Chuck Liddell</td>\n",
              "      <td>Unanimous</td>\n",
              "    </tr>\n",
              "    <tr>\n",
              "      <th>freq</th>\n",
              "      <td>16</td>\n",
              "      <td>1114</td>\n",
              "    </tr>\n",
              "  </tbody>\n",
              "</table>\n",
              "</div>"
            ],
            "text/plain": [
              "               f1name   method_d\n",
              "count            3481       3461\n",
              "unique            981        173\n",
              "top     Chuck Liddell  Unanimous\n",
              "freq               16       1114"
            ]
          },
          "metadata": {
            "tags": []
          },
          "execution_count": 55
        }
      ]
    },
    {
      "cell_type": "code",
      "metadata": {
        "id": "AMK-XfAHRlld",
        "colab_type": "code",
        "colab": {
          "base_uri": "https://localhost:8080/",
          "height": 173
        },
        "outputId": "81583054-b7dd-495c-d07d-daa4ea34e639"
      },
      "source": [
        "f7[['f1name', 'method_d']].describe()"
      ],
      "execution_count": 56,
      "outputs": [
        {
          "output_type": "execute_result",
          "data": {
            "text/html": [
              "<div>\n",
              "<style scoped>\n",
              "    .dataframe tbody tr th:only-of-type {\n",
              "        vertical-align: middle;\n",
              "    }\n",
              "\n",
              "    .dataframe tbody tr th {\n",
              "        vertical-align: top;\n",
              "    }\n",
              "\n",
              "    .dataframe thead th {\n",
              "        text-align: right;\n",
              "    }\n",
              "</style>\n",
              "<table border=\"1\" class=\"dataframe\">\n",
              "  <thead>\n",
              "    <tr style=\"text-align: right;\">\n",
              "      <th></th>\n",
              "      <th>f1name</th>\n",
              "      <th>method_d</th>\n",
              "    </tr>\n",
              "  </thead>\n",
              "  <tbody>\n",
              "    <tr>\n",
              "      <th>count</th>\n",
              "      <td>3465</td>\n",
              "      <td>3445</td>\n",
              "    </tr>\n",
              "    <tr>\n",
              "      <th>unique</th>\n",
              "      <td>980</td>\n",
              "      <td>169</td>\n",
              "    </tr>\n",
              "    <tr>\n",
              "      <th>top</th>\n",
              "      <td>Demian Maia</td>\n",
              "      <td>Unanimous</td>\n",
              "    </tr>\n",
              "    <tr>\n",
              "      <th>freq</th>\n",
              "      <td>16</td>\n",
              "      <td>1112</td>\n",
              "    </tr>\n",
              "  </tbody>\n",
              "</table>\n",
              "</div>"
            ],
            "text/plain": [
              "             f1name   method_d\n",
              "count          3465       3445\n",
              "unique          980        169\n",
              "top     Demian Maia  Unanimous\n",
              "freq             16       1112"
            ]
          },
          "metadata": {
            "tags": []
          },
          "execution_count": 56
        }
      ]
    },
    {
      "cell_type": "code",
      "metadata": {
        "id": "a3JIIvUCRpMz",
        "colab_type": "code",
        "colab": {
          "base_uri": "https://localhost:8080/",
          "height": 173
        },
        "outputId": "77c037d3-50e3-441a-dac8-2110f6390f53"
      },
      "source": [
        "f8[['f1name', 'method_d']].describe()"
      ],
      "execution_count": 57,
      "outputs": [
        {
          "output_type": "execute_result",
          "data": {
            "text/html": [
              "<div>\n",
              "<style scoped>\n",
              "    .dataframe tbody tr th:only-of-type {\n",
              "        vertical-align: middle;\n",
              "    }\n",
              "\n",
              "    .dataframe tbody tr th {\n",
              "        vertical-align: top;\n",
              "    }\n",
              "\n",
              "    .dataframe thead th {\n",
              "        text-align: right;\n",
              "    }\n",
              "</style>\n",
              "<table border=\"1\" class=\"dataframe\">\n",
              "  <thead>\n",
              "    <tr style=\"text-align: right;\">\n",
              "      <th></th>\n",
              "      <th>f1name</th>\n",
              "      <th>method_d</th>\n",
              "    </tr>\n",
              "  </thead>\n",
              "  <tbody>\n",
              "    <tr>\n",
              "      <th>count</th>\n",
              "      <td>3449</td>\n",
              "      <td>3429</td>\n",
              "    </tr>\n",
              "    <tr>\n",
              "      <th>unique</th>\n",
              "      <td>979</td>\n",
              "      <td>169</td>\n",
              "    </tr>\n",
              "    <tr>\n",
              "      <th>top</th>\n",
              "      <td>Donald Cerrone</td>\n",
              "      <td>Unanimous</td>\n",
              "    </tr>\n",
              "    <tr>\n",
              "      <th>freq</th>\n",
              "      <td>16</td>\n",
              "      <td>1106</td>\n",
              "    </tr>\n",
              "  </tbody>\n",
              "</table>\n",
              "</div>"
            ],
            "text/plain": [
              "                f1name   method_d\n",
              "count             3449       3429\n",
              "unique             979        169\n",
              "top     Donald Cerrone  Unanimous\n",
              "freq                16       1106"
            ]
          },
          "metadata": {
            "tags": []
          },
          "execution_count": 57
        }
      ]
    },
    {
      "cell_type": "code",
      "metadata": {
        "id": "B4usLLmjRlkP",
        "colab_type": "code",
        "colab": {
          "base_uri": "https://localhost:8080/",
          "height": 173
        },
        "outputId": "44d61243-a109-4f52-bc38-ae116d4d580c"
      },
      "source": [
        "f9[['f1name', 'method_d']].describe()"
      ],
      "execution_count": 58,
      "outputs": [
        {
          "output_type": "execute_result",
          "data": {
            "text/html": [
              "<div>\n",
              "<style scoped>\n",
              "    .dataframe tbody tr th:only-of-type {\n",
              "        vertical-align: middle;\n",
              "    }\n",
              "\n",
              "    .dataframe tbody tr th {\n",
              "        vertical-align: top;\n",
              "    }\n",
              "\n",
              "    .dataframe thead th {\n",
              "        text-align: right;\n",
              "    }\n",
              "</style>\n",
              "<table border=\"1\" class=\"dataframe\">\n",
              "  <thead>\n",
              "    <tr style=\"text-align: right;\">\n",
              "      <th></th>\n",
              "      <th>f1name</th>\n",
              "      <th>method_d</th>\n",
              "    </tr>\n",
              "  </thead>\n",
              "  <tbody>\n",
              "    <tr>\n",
              "      <th>count</th>\n",
              "      <td>3433</td>\n",
              "      <td>3413</td>\n",
              "    </tr>\n",
              "    <tr>\n",
              "      <th>unique</th>\n",
              "      <td>978</td>\n",
              "      <td>169</td>\n",
              "    </tr>\n",
              "    <tr>\n",
              "      <th>top</th>\n",
              "      <td>Donald Cerrone</td>\n",
              "      <td>Unanimous</td>\n",
              "    </tr>\n",
              "    <tr>\n",
              "      <th>freq</th>\n",
              "      <td>16</td>\n",
              "      <td>1098</td>\n",
              "    </tr>\n",
              "  </tbody>\n",
              "</table>\n",
              "</div>"
            ],
            "text/plain": [
              "                f1name   method_d\n",
              "count             3433       3413\n",
              "unique             978        169\n",
              "top     Donald Cerrone  Unanimous\n",
              "freq                16       1098"
            ]
          },
          "metadata": {
            "tags": []
          },
          "execution_count": 58
        }
      ]
    },
    {
      "cell_type": "code",
      "metadata": {
        "id": "Q-AdcZGBRvEB",
        "colab_type": "code",
        "colab": {
          "base_uri": "https://localhost:8080/",
          "height": 173
        },
        "outputId": "ffeeebba-6720-43a7-8575-504213f7f240"
      },
      "source": [
        "f10[['f1name', 'method_d']].describe()"
      ],
      "execution_count": 59,
      "outputs": [
        {
          "output_type": "execute_result",
          "data": {
            "text/html": [
              "<div>\n",
              "<style scoped>\n",
              "    .dataframe tbody tr th:only-of-type {\n",
              "        vertical-align: middle;\n",
              "    }\n",
              "\n",
              "    .dataframe tbody tr th {\n",
              "        vertical-align: top;\n",
              "    }\n",
              "\n",
              "    .dataframe thead th {\n",
              "        text-align: right;\n",
              "    }\n",
              "</style>\n",
              "<table border=\"1\" class=\"dataframe\">\n",
              "  <thead>\n",
              "    <tr style=\"text-align: right;\">\n",
              "      <th></th>\n",
              "      <th>f1name</th>\n",
              "      <th>method_d</th>\n",
              "    </tr>\n",
              "  </thead>\n",
              "  <tbody>\n",
              "    <tr>\n",
              "      <th>count</th>\n",
              "      <td>3417</td>\n",
              "      <td>3397</td>\n",
              "    </tr>\n",
              "    <tr>\n",
              "      <th>unique</th>\n",
              "      <td>977</td>\n",
              "      <td>169</td>\n",
              "    </tr>\n",
              "    <tr>\n",
              "      <th>top</th>\n",
              "      <td>Frankie Edgar</td>\n",
              "      <td>Unanimous</td>\n",
              "    </tr>\n",
              "    <tr>\n",
              "      <th>freq</th>\n",
              "      <td>15</td>\n",
              "      <td>1092</td>\n",
              "    </tr>\n",
              "  </tbody>\n",
              "</table>\n",
              "</div>"
            ],
            "text/plain": [
              "               f1name   method_d\n",
              "count            3417       3397\n",
              "unique            977        169\n",
              "top     Frankie Edgar  Unanimous\n",
              "freq               15       1092"
            ]
          },
          "metadata": {
            "tags": []
          },
          "execution_count": 59
        }
      ]
    },
    {
      "cell_type": "markdown",
      "metadata": {
        "id": "PAT8mMFKUoCw",
        "colab_type": "text"
      },
      "source": [
        "Let's see how Georges St. Pierre ends his fights."
      ]
    },
    {
      "cell_type": "code",
      "metadata": {
        "id": "x333cVT3Vydr",
        "colab_type": "code",
        "colab": {
          "base_uri": "https://localhost:8080/",
          "height": 187
        },
        "outputId": "4bad52e2-8c1a-453b-9ca0-1e3633038dda"
      },
      "source": [
        "George = fights.loc[fights['f1name'] == 'Georges St. Pierre']\n",
        "George['method_d'].value_counts()"
      ],
      "execution_count": 72,
      "outputs": [
        {
          "output_type": "execute_result",
          "data": {
            "text/plain": [
              "Unanimous                10\n",
              "Split                     2\n",
              "Corner Stoppage           1\n",
              "Armbar                    1\n",
              "Knees to the Body         1\n",
              "Head Kick and Punches     1\n",
              "Rear-Naked Choke          1\n",
              "Punches                   1\n",
              "Punches and Elbows        1\n",
              "Name: method_d, dtype: int64"
            ]
          },
          "metadata": {
            "tags": []
          },
          "execution_count": 72
        }
      ]
    },
    {
      "cell_type": "markdown",
      "metadata": {
        "id": "QXmR8GDnMc8u",
        "colab_type": "text"
      },
      "source": [
        "Let's compare how ends fights to how most fights are ended."
      ]
    },
    {
      "cell_type": "code",
      "metadata": {
        "id": "cM9sAfGYKVdV",
        "colab_type": "code",
        "colab": {
          "base_uri": "https://localhost:8080/",
          "height": 187
        },
        "outputId": "48b943d4-c62d-496d-e85e-4d9d4f56bdc1"
      },
      "source": [
        "#Check number of ending techniques again.\n",
        "fights['method_d'].value_counts().head(9)"
      ],
      "execution_count": 106,
      "outputs": [
        {
          "output_type": "execute_result",
          "data": {
            "text/plain": [
              "Unanimous           1142\n",
              "Punches              699\n",
              "Split                308\n",
              "Rear-Naked Choke     252\n",
              "Guillotine Choke     134\n",
              "Punch                126\n",
              "Armbar                85\n",
              "Triangle Choke        49\n",
              "Doctor Stoppage       41\n",
              "Name: method_d, dtype: int64"
            ]
          },
          "metadata": {
            "tags": []
          },
          "execution_count": 106
        }
      ]
    },
    {
      "cell_type": "code",
      "metadata": {
        "id": "Npa04bt5K6r4",
        "colab_type": "code",
        "colab": {
          "base_uri": "https://localhost:8080/",
          "height": 34
        },
        "outputId": "6d4fb3c1-e9e5-4844-d019-6997fa5a8885"
      },
      "source": [
        "#Check number of fights again.\n",
        "fights.shape"
      ],
      "execution_count": 97,
      "outputs": [
        {
          "output_type": "execute_result",
          "data": {
            "text/plain": [
              "(3569, 20)"
            ]
          },
          "metadata": {
            "tags": []
          },
          "execution_count": 97
        }
      ]
    },
    {
      "cell_type": "code",
      "metadata": {
        "id": "E_s8S0c6WvID",
        "colab_type": "code",
        "colab": {
          "base_uri": "https://localhost:8080/",
          "height": 303
        },
        "outputId": "91db281c-ebc4-4a7d-db16-1963043e112a"
      },
      "source": [
        "#Frequency of fight ending techniques used by George St. Pierre.\n",
        "\n",
        "George['method_d'].value_counts().plot.barh(color = '#CE0B31')\n",
        "plt.title('George St. Pierre fight enders', color = '#292929')\n",
        "plt.show()"
      ],
      "execution_count": 120,
      "outputs": [
        {
          "output_type": "display_data",
          "data": {
            "image/png": "[encoded data removed]",
            "text/plain": [
              "<Figure size 432x288 with 1 Axes>"
            ]
          },
          "metadata": {
            "tags": []
          }
        }
      ]
    },
    {
      "cell_type": "code",
      "metadata": {
        "id": "Yj15qLW9VuMS",
        "colab_type": "code",
        "colab": {
          "base_uri": "https://localhost:8080/",
          "height": 281
        },
        "outputId": "d4f7f183-abd8-4690-c040-9563543fbc20"
      },
      "source": [
        "#Same values expressed as a percentage.\n",
        "plt.pie(George['method_d'].value_counts(), labels = ['Unanimous', 'Split', 'Corner Stoppage', 'Armbar', 'Knees to the Body',\n",
        "                                                     'Head Kick and Punches', 'Rear Naked Choke', 'Punches', 'Punches and Elbows'], \n",
        "        autopct='%.1f%%')\n",
        "plt.title('George St. Pierre fight enders', color = '#292929')\n",
        "plt.rcParams['font.size'] = 10\n",
        "plt.show()"
      ],
      "execution_count": 147,
      "outputs": [
        {
          "output_type": "display_data",
          "data": {
            "image/png": "[encoded data removed]",
            "text/plain": [
              "<Figure size 432x288 with 1 Axes>"
            ]
          },
          "metadata": {
            "tags": []
          }
        }
      ]
    },
    {
      "cell_type": "code",
      "metadata": {
        "id": "ZLe5ccDNZCQb",
        "colab_type": "code",
        "colab": {
          "base_uri": "https://localhost:8080/",
          "height": 281
        },
        "outputId": "903646d7-965c-424d-916d-16c773163b60"
      },
      "source": [
        "#Percentage of all fights in ufc divided by fight endign technique only.\n",
        "plt.pie(fights['method_d'].value_counts().head(9), labels = ['Unanimous', 'Punches', 'Split', 'Rear-Naked Choke', 'Guillotine Choke',\n",
        "                                                            'Punch', 'Armbar', 'Triangle Choke', 'Doctor Stoppage' ] ,autopct='%.1f%%')\n",
        "plt.title('Common UFC fight enders', color = '#292929')\n",
        "plt.rcParams['font.size'] = 10\n",
        "plt.show()"
      ],
      "execution_count": 151,
      "outputs": [
        {
          "output_type": "display_data",
          "data": {
            "image/png": "[encoded data removed]",
            "text/plain": [
              "<Figure size 432x288 with 1 Axes>"
            ]
          },
          "metadata": {
            "tags": []
          }
        }
      ]
    },
    {
      "cell_type": "markdown",
      "metadata": {
        "id": "nG7xhBi98f_2",
        "colab_type": "text"
      },
      "source": [
        "How much variance is there in the number of unanimous fights Georges St. Pierre has had compared to most fighters?"
      ]
    },
    {
      "cell_type": "code",
      "metadata": {
        "id": "qMFPjzssgZEM",
        "colab_type": "code",
        "colab": {
          "base_uri": "https://localhost:8080/",
          "height": 34
        },
        "outputId": "adff7a36-284d-4c62-e757-e15dde3675d7"
      },
      "source": [
        "# The difference in Unanimous wins between George St. Pierre and the average population.\n",
        "52.6 - 40.3"
      ],
      "execution_count": 154,
      "outputs": [
        {
          "output_type": "execute_result",
          "data": {
            "text/plain": [
              "12.300000000000004"
            ]
          },
          "metadata": {
            "tags": []
          },
          "execution_count": 154
        }
      ]
    }
  ]
}