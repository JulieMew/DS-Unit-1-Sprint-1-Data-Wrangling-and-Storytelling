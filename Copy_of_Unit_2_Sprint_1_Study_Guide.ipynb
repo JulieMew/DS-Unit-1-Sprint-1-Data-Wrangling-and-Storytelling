{
  "nbformat": 4,
  "nbformat_minor": 0,
  "metadata": {
    "colab": {
      "name": "Copy of Unit 2 Sprint 1  Study Guide.ipynb",
      "provenance": [],
      "collapsed_sections": [],
      "include_colab_link": true
    },
    "kernelspec": {
      "name": "python3",
      "display_name": "Python 3"
    }
  },
  "cells": [
    {
      "cell_type": "markdown",
      "metadata": {
        "id": "view-in-github",
        "colab_type": "text"
      },
      "source": [
        "<a href=\"https://colab.research.google.com/github/JulieMew/DS-Unit-1-Sprint-1-Data-Wrangling-and-Storytelling/blob/master/Copy_of_Unit_2_Sprint_1_Study_Guide.ipynb\" target=\"_parent\"><img src=\"https://colab.research.google.com/assets/colab-badge.svg\" alt=\"Open In Colab\"/></a>"
      ]
    },
    {
      "cell_type": "markdown",
      "metadata": {
        "id": "Nd2OOOVXxXS1",
        "colab_type": "text"
      },
      "source": [
        "This study guide should reinforce and provide practice for all of the concepts you have seen in the past week. There are a mix of written questions and coding exercises, both are equally important to prepare you for the sprint challenge as well as to be able to speak on these topics comfortably in interviews and on the job.\n",
        "\n",
        "If you get stuck or are unsure of something remember the 20 minute rule. If that doesn't help, then research a solution with google and stackoverflow. Only once you have exausted these methods should you turn to your Team Lead - they won't be there on your SC or during an interview. That being said, don't hesitate to ask for help if you truly are stuck.\n",
        "\n",
        "Have fun studying!"
      ]
    },
    {
      "cell_type": "markdown",
      "metadata": {
        "id": "YbwATE4qeJx7",
        "colab_type": "text"
      },
      "source": [
        ""
      ]
    },
    {
      "cell_type": "markdown",
      "metadata": {
        "id": "fpvInKdXekFi",
        "colab_type": "text"
      },
      "source": [
        "## Questions"
      ]
    },
    {
      "cell_type": "markdown",
      "metadata": {
        "id": "Q6bS8AhBZ86H",
        "colab_type": "text"
      },
      "source": [
        "When completing this section, try to limit your answers to 2-3 sentences max and use plain english as much as possible. It's very easy to hide incomplete knowledge and understanding behind fancy or technical words, so imagine you are explaining these things to a non-technical interviewer.\n",
        "\n",
        "1. What is train/test split?\n",
        "```\n",
        "A function in Sklearn model selections for splitting data arrays into two subsets: for training data and for testing data.\n",
        "```\n",
        "\n",
        "2. What is a baseline?\n",
        "```\n",
        "A starting point for comparisons.\n",
        "```\n",
        "\n",
        "3. What is one-hot encoding and how do you do it?\n",
        "```\n",
        "One hot encoding is a process by which categorical variables are converted into a form that could be provided to ML algorithms to do a better job in prediction. A one hot encoding is a representation of categorical variables as binary vectors. This first requires that the categorical values be mapped to integer values. Then, each integer value is represented as a binary vector that is all zero values except the index of the integer, which is marked with a 1.\n",
        "```\n",
        "\n",
        "4. What is Linear Regression?\n",
        "```\n",
        "Linear Regression is the process of finding a line that best fits the data points available on the plot, so that we can use it to predict output values for inputs that are not present in the data set we have, with the belief that those outputs would fall on the line.\n",
        "```\n",
        "\n",
        "5. What is MAE? R^2?\n",
        "```\n",
        "Mae is a measure of errors between paired observations expressing the same phenomenon. R-squared (Coefficient of determination) represents the coefficient of how well the values fit compared to the original values.\n",
        "```\n",
        "\n",
        "6. What are coefficients?\n",
        "```\n",
        "The coefficients are the numbers that multiply the variables or letters.\n",
        "```\n",
        "\n",
        "7. What is RMSE?\n",
        "```\n",
        "RMSE (Root Mean Squared Error) is the error rate by the square root of MSE.\n",
        "```\n",
        "\n"
      ]
    },
    {
      "cell_type": "markdown",
      "metadata": {
        "colab_type": "text",
        "id": "Y3aagcgv6tXR"
      },
      "source": [
        "## Practice Problems"
      ]
    },
    {
      "cell_type": "markdown",
      "metadata": {
        "id": "YSvUU3p977mV",
        "colab_type": "text"
      },
      "source": [
        "# **Use any Data Set you want**"
      ]
    },
    {
      "cell_type": "markdown",
      "metadata": {
        "id": "jzbLifR68G5-",
        "colab_type": "text"
      },
      "source": [
        "Do train/test split"
      ]
    },
    {
      "cell_type": "code",
      "metadata": {
        "id": "0nfwcod28jcB",
        "colab_type": "code",
        "colab": {}
      },
      "source": [
        "# Split the data\n",
        "\n",
        "train = df[df['price'] < 2500]\n",
        "\n",
        "test = df[df['price'] >= 2500]"
      ],
      "execution_count": 0,
      "outputs": []
    },
    {
      "cell_type": "code",
      "metadata": {
        "id": "KhXmK3Zr7Kh8",
        "colab_type": "code",
        "colab": {}
      },
      "source": [
        "train.shape, test.shape #Check the data split."
      ],
      "execution_count": 0,
      "outputs": []
    },
    {
      "cell_type": "code",
      "metadata": {
        "id": "TFyIhniq7PXo",
        "colab_type": "code",
        "colab": {}
      },
      "source": [
        "train['dishwasher'].mean() "
      ],
      "execution_count": 0,
      "outputs": []
    },
    {
      "cell_type": "code",
      "metadata": {
        "id": "xY4Ete0X7P2o",
        "colab_type": "code",
        "colab": {}
      },
      "source": [
        "# Arrange y target vectors\n",
        "target = 'dishwasher'\n",
        "y_train = train[target]\n",
        "y_test = test[target]"
      ],
      "execution_count": 0,
      "outputs": []
    },
    {
      "cell_type": "code",
      "metadata": {
        "id": "7SD6in0Y7TVB",
        "colab_type": "code",
        "colab": {}
      },
      "source": [
        "y_train"
      ],
      "execution_count": 0,
      "outputs": []
    },
    {
      "cell_type": "code",
      "metadata": {
        "id": "Bmp92OIe912d",
        "colab_type": "code",
        "colab": {}
      },
      "source": [
        "y_test"
      ],
      "execution_count": 0,
      "outputs": []
    },
    {
      "cell_type": "code",
      "metadata": {
        "id": "3pEzLeFX92ga",
        "colab_type": "code",
        "colab": {}
      },
      "source": [
        "# Get mean baseline\n",
        "print('Mean Baseline (using 0 features)')\n",
        "guess = y_train.mean()"
      ],
      "execution_count": 0,
      "outputs": []
    },
    {
      "cell_type": "code",
      "metadata": {
        "id": "xNbeyZ4Y951P",
        "colab_type": "code",
        "colab": {}
      },
      "source": [
        "guess"
      ],
      "execution_count": 0,
      "outputs": []
    },
    {
      "cell_type": "code",
      "metadata": {
        "id": "lejxYbBB97rt",
        "colab_type": "code",
        "colab": {}
      },
      "source": [
        "# Train Error\n",
        "from sklearn.metrics import mean_absolute_error\n",
        "y_pred = [guess] * len(y_train)\n",
        "mae = mean_absolute_error(y_train, y_pred)\n",
        "print(f'Train Error (dishwasher): {mae:.2f} price')"
      ],
      "execution_count": 0,
      "outputs": []
    },
    {
      "cell_type": "code",
      "metadata": {
        "id": "QzNMEirF99I-",
        "colab_type": "code",
        "colab": {}
      },
      "source": [
        "# Test Error\n",
        "y_pred = [guess] * len(y_test)\n",
        "mae = mean_absolute_error(y_test, y_pred)\n",
        "print(f'Test Error (dishwasher): {mae:.2f} price')"
      ],
      "execution_count": 0,
      "outputs": []
    },
    {
      "cell_type": "code",
      "metadata": {
        "id": "abqPCbwQ99jx",
        "colab_type": "code",
        "colab": {}
      },
      "source": [
        "import plotly.express as px\n",
        "\n",
        "px.scatter( train,\n",
        "    x='dishwasher',\n",
        "    y='price',\n",
        "    text='price',\n",
        "    title='how dishwashers change price',\n",
        "    trendline='ols',  # Ordinary Least Squares\n",
        ")"
      ],
      "execution_count": 0,
      "outputs": []
    },
    {
      "cell_type": "code",
      "metadata": {
        "id": "jfnKaKMo-XL2",
        "colab_type": "code",
        "colab": {}
      },
      "source": [
        "# Train Error\n",
        "from sklearn.metrics import mean_absolute_error\n",
        "y_pred = [guess] * len(y_train)\n",
        "mae = mean_absolute_error(y_train, y_pred)\n",
        "print(f'Train Error (dishwasher): {mae:.2f} fitness_center')"
      ],
      "execution_count": 0,
      "outputs": []
    },
    {
      "cell_type": "markdown",
      "metadata": {
        "id": "w37eIi8n8ioh",
        "colab_type": "text"
      },
      "source": [
        "What is the Mean Absolute Error"
      ]
    },
    {
      "cell_type": "code",
      "metadata": {
        "id": "o3tHl2k08yvR",
        "colab_type": "code",
        "colab": {}
      },
      "source": [
        "from sklearn.metrics import mean_absolute_error\n",
        "y_pred = [guess] * len(y_train)\n",
        "mae = mean_absolute_error(y_train, y_pred)\n",
        "print(f' {mae:.2f} percentage points')"
      ],
      "execution_count": 0,
      "outputs": []
    },
    {
      "cell_type": "code",
      "metadata": {
        "id": "J5DZC39y-3Pz",
        "colab_type": "code",
        "colab": {}
      },
      "source": [
        "y_pred = [guess] * len(y_test)\n",
        "mae = mean_absolute_error(y_test, y_pred)\n",
        "print(f' {mae:.2f} percentage points')"
      ],
      "execution_count": 0,
      "outputs": []
    },
    {
      "cell_type": "markdown",
      "metadata": {
        "id": "Xhr6gVUL8y-T",
        "colab_type": "text"
      },
      "source": [
        "What is the R^2 score"
      ]
    },
    {
      "cell_type": "code",
      "metadata": {
        "id": "l0vwlyKp9TH7",
        "colab_type": "code",
        "colab": {}
      },
      "source": [
        "from sklearn.model_selection import train_test_split\n",
        "X_train, X_test, y_train, y_test = train_test_split(X, y, random_state=11)"
      ],
      "execution_count": 0,
      "outputs": []
    },
    {
      "cell_type": "code",
      "metadata": {
        "id": "6cLN7QgO--GW",
        "colab_type": "code",
        "colab": {}
      },
      "source": [
        "from IPython.display import display, HTML\n",
        "from sklearn.linear_model import LinearRegression\n",
        "from sklearn.metrics import r2_score\n",
        "from sklearn.pipeline import make_pipeline\n",
        "from sklearn.preprocessing import PolynomialFeatures\n",
        "\n",
        "\n",
        "# Credit for PolynomialRegression: Jake VanderPlas, Python Data Science Handbook, Chapter 5.3\n",
        "# https://jakevdp.github.io/PythonDataScienceHandbook/05.03-hyperparameters-and-model-validation.html#Validation-curves-in-Scikit-Learn\n",
        "def PolynomialRegression(degree=2, **kwargs):\n",
        "    return make_pipeline(PolynomialFeatures(degree), \n",
        "                         LinearRegression(**kwargs))\n",
        "\n",
        "\n",
        "polynomial_degrees = range(1, 10, 2)\n",
        "train_r2s = []\n",
        "test_r2s = []\n",
        "\n",
        "for degree in polynomial_degrees:\n",
        "    model = PolynomialRegression(degree)\n",
        "    display(HTML(f'Polynomial degree={degree}'))\n",
        "    \n",
        "    model.fit(X_train, y_train)\n",
        "    train_r2 = model.score(X_train, y_train)\n",
        "    test_r2 = model.score(X_test, y_test)\n",
        "    display(HTML(f'<b style=\"color: blue\">Train R2 {train_r2:.2f}</b>'))\n",
        "    display(HTML(f'<b style=\"color: red\">Test R2 {test_r2:.2f}</b>'))\n",
        "\n",
        "    plt.scatter(X_train[:,0], y_train, color='blue', alpha=0.5)\n",
        "    plt.scatter(X_train[:,0], y_test, color='red', alpha=0.5)\n",
        "    plt.xlabel(features)\n",
        "    plt.ylabel(target)\n",
        "    \n",
        "    x_domain = np.linspace(X.min(), X.max())\n",
        "    curve = model.predict(x_domain)\n",
        "    plt.plot(x_domain, curve, color='blue')\n",
        "    plt.show()\n",
        "    display(HTML('<hr/>'))\n",
        "    \n",
        "    train_r2s.append(train_r2)\n",
        "    test_r2s.append(test_r2)\n",
        "    \n",
        "display(HTML('Validation Curve'))\n",
        "plt.plot(polynomial_degrees, train_r2s, color='blue', label='Train')\n",
        "plt.plot(polynomial_degrees, test_r2s, color='red', label='Test')\n",
        "plt.xlabel('Model Complexity (Polynomial Degree)')\n",
        "plt.ylabel('R^2 Score')\n",
        "plt.legend()\n",
        "plt.show() "
      ],
      "execution_count": 0,
      "outputs": []
    },
    {
      "cell_type": "markdown",
      "metadata": {
        "id": "cp24R0Xv9UFe",
        "colab_type": "text"
      },
      "source": [
        "Do one-hot encoding Encode your categorical feature(s)."
      ]
    },
    {
      "cell_type": "code",
      "metadata": {
        "id": "0y2yPKDV9tnK",
        "colab_type": "code",
        "colab": {}
      },
      "source": [
        "# label encoding the data \n",
        "from sklearn.preprocessing import LabelEncoder \n",
        "  \n",
        "le = LabelEncoder() \n",
        "  \n",
        "df['created']= le.fit_transform(df['price']) \n",
        "df['created']= le.fit_transform(df['price']) "
      ],
      "execution_count": 0,
      "outputs": []
    },
    {
      "cell_type": "code",
      "metadata": {
        "id": "MR5ydkYXD3E1",
        "colab_type": "code",
        "colab": {}
      },
      "source": [
        "# importing one hot encoder from sklearn \n",
        "from sklearn.preprocessing import OneHotEncoder \n",
        "  \n",
        "# creating one hot encoder object by default \n",
        "# entire data passed is one hot encoded \n",
        "onehotencoder = OneHotEncoder() \n",
        "  \n",
        "df = np.array(columnTransformer.fit_transform(df), dtype = np.str) "
      ],
      "execution_count": 0,
      "outputs": []
    },
    {
      "cell_type": "markdown",
      "metadata": {
        "id": "oTH5iwqr99fj",
        "colab_type": "text"
      },
      "source": [
        "Fit your model."
      ]
    },
    {
      "cell_type": "code",
      "metadata": {
        "id": "4CcXEegP-go8",
        "colab_type": "code",
        "colab": {}
      },
      "source": [
        "import category_encoders as ce\n",
        "\n",
        "encoder = ce.OneHotEncoder(use_cat_names=True)\n",
        "X_train = encoder.fit_transform(X_train)\n",
        "X_test = encoder.transform(X_test)"
      ],
      "execution_count": 0,
      "outputs": []
    },
    {
      "cell_type": "code",
      "metadata": {
        "id": "iu44IK2wEJvc",
        "colab_type": "code",
        "colab": {}
      },
      "source": [
        "from sklearn.feature_selection import f_regression, SelectKBest\n",
        "from sklearn.linear_model import LinearRegression\n",
        "from sklearn.metrics import mean_absolute_error\n",
        "\n",
        "for i in range(1, len(X_train.columns) + 1):\n",
        "  selector = SelectKBest(score_func=f_regression, k=i)\n",
        "  model = LinearRegression()\n",
        "\n",
        "  X_train_selected = selector.fit_transform(X_train, y_train)\n",
        "  X_test_selected = selector.transform(X_test)\n",
        "  model.fit(X_train_selected, y_train)\n",
        "  y_pred = model.predict(X_test_selected)\n",
        "  mae = mean_absolute_error(y_test, y_pred)\n",
        "  print(f'Test MAE with {i} features: {mae:.0f}')"
      ],
      "execution_count": 0,
      "outputs": []
    },
    {
      "cell_type": "markdown",
      "metadata": {
        "id": "DjHSg2m1g6bw",
        "colab_type": "text"
      },
      "source": [
        "What is the Mean Absolute Error and R^2 score for your model?"
      ]
    },
    {
      "cell_type": "code",
      "metadata": {
        "id": "V632KX-wg67w",
        "colab_type": "code",
        "colab": {}
      },
      "source": [
        "from sklearn.feature_selection import f_regression, SelectKBest\n",
        "from sklearn.linear_model import LinearRegression\n",
        "from sklearn.metrics import mean_absolute_error\n",
        "\n",
        "for i in range(1, len(X_train.columns) + 1):\n",
        "  selector = SelectKBest(score_func=f_regression, k=i)\n",
        "  model = LinearRegression()\n",
        "\n",
        "  X_train_selected = selector.fit_transform(X_train, y_train)\n",
        "  X_test_selected = selector.transform(X_test)\n",
        "  model.fit(X_train_selected, y_train)\n",
        "  y_pred = model.predict(X_test_selected)\n",
        "  mae = mean_absolute_error(y_test, y_pred)\n",
        "  print(f'Test MAE with {i} features: {mae:.0f}')"
      ],
      "execution_count": 0,
      "outputs": []
    },
    {
      "cell_type": "code",
      "metadata": {
        "id": "wATUg7M6EQP5",
        "colab_type": "code",
        "colab": {}
      },
      "source": [
        "from sklearn.feature_selection import f_regression, SelectKBest\n",
        "from sklearn.linear_model import LinearRegression\n",
        "from sklearn.metrics import mean_absolute_error\n",
        "\n",
        "for i in range(1, len(X_train.columns) + 1):\n",
        "  selector = SelectKBest(score_func=f_regression, k=i)\n",
        "  model = LinearRegression()\n",
        "\n",
        "  X_train_selected = selector.fit_transform(X_train, y_train)\n",
        "  X_test_selected = selector.transform(X_test)\n",
        "  model.fit(X_train_selected, y_train)\n",
        "  y_pred = model.predict(X_test_selected)\n",
        "  mae = mean_absolute_error(y_test, y_pred)\n",
        "  print(f'Test MAE with {i} features: {mae:.0f}')"
      ],
      "execution_count": 0,
      "outputs": []
    },
    {
      "cell_type": "markdown",
      "metadata": {
        "id": "ZP6srn7tg7VD",
        "colab_type": "text"
      },
      "source": [
        "Print or plot the coefficients"
      ]
    },
    {
      "cell_type": "code",
      "metadata": {
        "id": "vv33IO2Wg-fo",
        "colab_type": "code",
        "colab": {}
      },
      "source": [
        "# TODO: Fit the model\n",
        "# start with linear regression\n",
        "\n",
        "model_full = LinearRegression()\n",
        "model_full.fit(X_train, y_train)"
      ],
      "execution_count": 0,
      "outputs": []
    },
    {
      "cell_type": "code",
      "metadata": {
        "id": "NFFQzagCEaTv",
        "colab_type": "code",
        "colab": {}
      },
      "source": [
        "# Calculate training error\n",
        "y_pred = model_full.predict(X_train)\n",
        "mean_absolute_error(y_train, y_pred)"
      ],
      "execution_count": 0,
      "outputs": []
    },
    {
      "cell_type": "code",
      "metadata": {
        "id": "fdBsOmMPEcIp",
        "colab_type": "code",
        "colab": {}
      },
      "source": [
        "# TODO: Apply the model to new data\n",
        "y_pred = model_full.predict(X_test)\n",
        "mean_absolute_error(y_test, y_pred)"
      ],
      "execution_count": 0,
      "outputs": []
    },
    {
      "cell_type": "code",
      "metadata": {
        "id": "ClE3UAFuEdmn",
        "colab_type": "code",
        "colab": {}
      },
      "source": [
        "# get coefficients\n",
        "model_full.intercept_, model_full.coef_"
      ],
      "execution_count": 0,
      "outputs": []
    },
    {
      "cell_type": "code",
      "metadata": {
        "id": "gs69uk7yEfiz",
        "colab_type": "code",
        "colab": {}
      },
      "source": [
        "beta0 = model_full.intercept_\n",
        "beta1, beta2 = model_full.coef_\n",
        "print(f'y = {beta0} + {beta1}x1 + {beta2}x2')"
      ],
      "execution_count": 0,
      "outputs": []
    },
    {
      "cell_type": "code",
      "metadata": {
        "id": "RRg9hLZBEhDZ",
        "colab_type": "code",
        "colab": {}
      },
      "source": [
        "# This is easier to read\n",
        "print('Intercept', model_full.intercept_)\n",
        "coefficients = pd.Series(model_full.coef_, features)\n",
        "print(coefficients.to_string())"
      ],
      "execution_count": 0,
      "outputs": []
    },
    {
      "cell_type": "code",
      "metadata": {
        "id": "Kp7F55AmEigC",
        "colab_type": "code",
        "colab": {}
      },
      "source": [
        "X_train.describe()"
      ],
      "execution_count": 0,
      "outputs": []
    },
    {
      "cell_type": "code",
      "metadata": {
        "id": "cOPXUt-DEj7M",
        "colab_type": "code",
        "colab": {}
      },
      "source": [
        "model = model_full "
      ],
      "execution_count": 0,
      "outputs": []
    },
    {
      "cell_type": "code",
      "metadata": {
        "id": "V-vux5CeElaZ",
        "colab_type": "code",
        "colab": {}
      },
      "source": [
        "model.predict([[0, 0]])"
      ],
      "execution_count": 0,
      "outputs": []
    },
    {
      "cell_type": "code",
      "metadata": {
        "id": "VwMMfk7aEnm-",
        "colab_type": "code",
        "colab": {}
      },
      "source": [
        "model.predict([[1, 0]])"
      ],
      "execution_count": 0,
      "outputs": []
    },
    {
      "cell_type": "code",
      "metadata": {
        "id": "j0QzziYqEpFI",
        "colab_type": "code",
        "colab": {}
      },
      "source": [
        "model.predict([[1, 0]]) - model.predict([[0, 0]])"
      ],
      "execution_count": 0,
      "outputs": []
    },
    {
      "cell_type": "code",
      "metadata": {
        "id": "K88L8HayEqFb",
        "colab_type": "code",
        "colab": {}
      },
      "source": [
        "model.predict([[2, 0]])"
      ],
      "execution_count": 0,
      "outputs": []
    },
    {
      "cell_type": "code",
      "metadata": {
        "id": "WTisNxNuEvs7",
        "colab_type": "code",
        "colab": {}
      },
      "source": [
        "model.predict([[2, 0]]) - model.predict([[1, 0]])  # The same diff - linear!"
      ],
      "execution_count": 0,
      "outputs": []
    },
    {
      "cell_type": "code",
      "metadata": {
        "id": "EsV5892YEzCn",
        "colab_type": "code",
        "colab": {}
      },
      "source": [
        "model.predict([[2, 100]])"
      ],
      "execution_count": 0,
      "outputs": []
    },
    {
      "cell_type": "code",
      "metadata": {
        "id": "iWiyR3JME0NF",
        "colab_type": "code",
        "colab": {}
      },
      "source": [
        "model.predict([[2, 100]]) - model.predict([[2, 0]])"
      ],
      "execution_count": 0,
      "outputs": []
    },
    {
      "cell_type": "code",
      "metadata": {
        "id": "ZsuOczIyE1kR",
        "colab_type": "code",
        "colab": {}
      },
      "source": [
        "model.predict([[3, 100]])"
      ],
      "execution_count": 0,
      "outputs": []
    },
    {
      "cell_type": "code",
      "metadata": {
        "id": "G9K0rONXE3Ka",
        "colab_type": "code",
        "colab": {}
      },
      "source": [
        "model.predict([[3, 100]]) - model.predict([[2, 100]])"
      ],
      "execution_count": 0,
      "outputs": []
    },
    {
      "cell_type": "code",
      "metadata": {
        "id": "UvMEryiAE4Zi",
        "colab_type": "code",
        "colab": {}
      },
      "source": [
        "model.predict([[3, 200]])"
      ],
      "execution_count": 0,
      "outputs": []
    },
    {
      "cell_type": "code",
      "metadata": {
        "id": "9A-U0L_eE5l5",
        "colab_type": "code",
        "colab": {}
      },
      "source": [
        "model.predict([[3, 200]]) - model.predict([[3, 100]])"
      ],
      "execution_count": 0,
      "outputs": []
    },
    {
      "cell_type": "markdown",
      "metadata": {
        "id": "t2dvebL-_J7a",
        "colab_type": "text"
      },
      "source": [
        "# **What to study**"
      ]
    },
    {
      "cell_type": "markdown",
      "metadata": {
        "id": "y5nm78Ed_fBk",
        "colab_type": "text"
      },
      "source": [
        "-train/test split\n",
        "\n",
        "\n",
        "-baseline\n",
        "\n",
        "\n",
        "-one-hot encoding\n",
        "\n",
        "\n",
        "-Linear Regression\n",
        "\n",
        "\n",
        "-MAE\n",
        "\n",
        "\n",
        "-R^2\n",
        "\n",
        "\n",
        "-coefficients\n",
        "\n",
        "\n",
        "-RMSE"
      ]
    }
  ]
}