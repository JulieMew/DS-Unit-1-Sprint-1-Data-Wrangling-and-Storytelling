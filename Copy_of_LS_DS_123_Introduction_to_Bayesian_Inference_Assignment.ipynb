{
  "nbformat": 4,
  "nbformat_minor": 0,
  "metadata": {
    "colab": {
      "name": "Copy of LS_DS_123_Introduction_to_Bayesian_Inference_Assignment.ipynb",
      "provenance": [],
      "collapsed_sections": [],
      "include_colab_link": true
    },
    "kernelspec": {
      "name": "python3",
      "display_name": "Python 3"
    }
  },
  "cells": [
    {
      "cell_type": "markdown",
      "metadata": {
        "id": "view-in-github",
        "colab_type": "text"
      },
      "source": [
        "<a href=\"https://colab.research.google.com/github/JulieMew/DS-Unit-1-Sprint-1-Data-Wrangling-and-Storytelling/blob/master/Copy_of_LS_DS_123_Introduction_to_Bayesian_Inference_Assignment.ipynb\" target=\"_parent\"><img src=\"https://colab.research.google.com/assets/colab-badge.svg\" alt=\"Open In Colab\"/></a>"
      ]
    },
    {
      "cell_type": "markdown",
      "metadata": {
        "id": "H7OLbevlbd_Z",
        "colab_type": "text"
      },
      "source": [
        "# Lambda School Data Science Module 123\n",
        "\n",
        "## Introduction to Bayesian Inference\n",
        "\n",
        "\n"
      ]
    },
    {
      "cell_type": "markdown",
      "metadata": {
        "id": "P-DzzRk5bf0z",
        "colab_type": "text"
      },
      "source": [
        "## Assignment - Code it up!\n",
        "\n",
        "We used pure math to apply Bayes Theorem to drug tests. Now write Python code to reproduce the results! This is purposefully open ended - you'll have to think about how you should represent probabilities and events. You can and should look things up.\n",
        "\n",
        "Specific goals/targets:\n",
        "\n",
        "### 1) Write a function \n",
        "\n",
        "`def prob_drunk_given_positive(prob_drunk_prior, false_positive_rate, true_positive_rate):` \n",
        "\n",
        "You should only truly need these two values in order to apply Bayes Theorem. In this example, imagine that individuals are taking a breathalyzer test with an 8% false positive rate, a 100% true positive rate, and that our prior belief about drunk driving in the population is 1/1000. \n",
        " - What is the probability that a person is drunk after one positive breathalyzer test?\n",
        " - What is the probability that a person is drunk after two positive breathalyzer tests?\n",
        " - How many positive breathalyzer tests are needed in order to have a probability that's greater than 95% that a person is drunk beyond the legal limit?\n",
        "\n",
        "### 2) Explore `scipy.stats.bayes_mvs`  \n",
        "Read its documentation, and experiment with it on data you've tested in other ways earlier this week.\n",
        " - Create a visualization comparing the results of a Bayesian approach to a traditional/frequentist approach. (with a large sample size they should look close to identical, however, take this opportunity to practice visualizing condfidence intervals in general. The following are some potential ways that you could visualize confidence intervals on your graph:\n",
        "  - [Matplotlib Error Bars](https://matplotlib.org/3.1.1/api/_as_gen/matplotlib.pyplot.errorbar.html)\n",
        "  - [Seaborn barplot with error bars](https://seaborn.pydata.org/generated/seaborn.barplot.html)\n",
        "  - [Vertical ines to show bounds of confidence interval](https://www.simplypsychology.org/confidence-interval.jpg)\n",
        "  - [Confidence Intervals on Box Plots](https://matplotlib.org/3.1.1/api/_as_gen/matplotlib.axes.Axes.boxplot.html)\n",
        "\n",
        "### 3) In your own words, summarize the difference between Bayesian and Frequentist statistics\n",
        "\n",
        "If you're unsure where to start, check out [this blog post of Bayes theorem with Python](https://dataconomy.com/2015/02/introduction-to-bayes-theorem-with-python/).\n",
        "\n"
      ]
    },
    {
      "cell_type": "markdown",
      "metadata": {
        "id": "CVBWFD1Fe4Z_",
        "colab_type": "text"
      },
      "source": [
        "**1) Write a function**"
      ]
    },
    {
      "cell_type": "code",
      "metadata": {
        "id": "8qHUtOsGbPa_",
        "colab_type": "code",
        "colab": {}
      },
      "source": [
        "# True Positive Rate\n",
        "true_positive_rate = 1\n",
        "  # Prior Probability\n",
        "prob_drunk_prior = .001\n",
        "  # False Positive Rate\n",
        "false_positive_rate = .08\n",
        "  # Complement of the prior (1-event == complement)\n",
        "\n",
        "def prob_drunk_given_positive(prob_drunk_prior = prob_drunk_prior, false_positive_rate = false_positive_rate, true_positive_rate = true_positive_rate):\n",
        " \n",
        " prob_no_drunk_prior = 1 - prob_drunk_prior\n",
        "\n",
        " numerator = true_positive_rate * prob_drunk_prior\n",
        "\n",
        " denominator = (true_positive_rate * prob_drunk_prior) + (false_positive_rate * prob_no_drunk_prior)\n",
        "\n",
        " posterior_probability = numerator / denominator\n",
        "\n",
        " posterior_probability"
      ],
      "execution_count": 0,
      "outputs": []
    },
    {
      "cell_type": "code",
      "metadata": {
        "id": "3AJZyiJiMHdH",
        "colab_type": "code",
        "colab": {}
      },
      "source": [
        "test_1 = prob_drunk_given_positive()"
      ],
      "execution_count": 0,
      "outputs": []
    },
    {
      "cell_type": "markdown",
      "metadata": {
        "id": "RG49kqXAezjC",
        "colab_type": "text"
      },
      "source": [
        "**2) Explore scipy.stats.bayes_mvs**"
      ]
    },
    {
      "cell_type": "code",
      "metadata": {
        "id": "FySD4bJ4Y9AF",
        "colab_type": "code",
        "outputId": "afc9f6c6-803a-468e-e90a-58445d148c40",
        "colab": {
          "base_uri": "https://localhost:8080/",
          "height": 204
        }
      },
      "source": [
        "import pandas as pd\n",
        "from scipy import stats \n",
        "df = pd.read_csv(\"https://raw.githubusercontent.com/axrd/datasets/master/tipdata.csv\")\n",
        "df.head()"
      ],
      "execution_count": 0,
      "outputs": [
        {
          "output_type": "execute_result",
          "data": {
            "text/html": [
              "<div>\n",
              "<style scoped>\n",
              "    .dataframe tbody tr th:only-of-type {\n",
              "        vertical-align: middle;\n",
              "    }\n",
              "\n",
              "    .dataframe tbody tr th {\n",
              "        vertical-align: top;\n",
              "    }\n",
              "\n",
              "    .dataframe thead th {\n",
              "        text-align: right;\n",
              "    }\n",
              "</style>\n",
              "<table border=\"1\" class=\"dataframe\">\n",
              "  <thead>\n",
              "    <tr style=\"text-align: right;\">\n",
              "      <th></th>\n",
              "      <th>Unnamed: 0</th>\n",
              "      <th>total_bill</th>\n",
              "      <th>tip</th>\n",
              "      <th>sex</th>\n",
              "      <th>smoker</th>\n",
              "      <th>day</th>\n",
              "      <th>time</th>\n",
              "      <th>size</th>\n",
              "    </tr>\n",
              "  </thead>\n",
              "  <tbody>\n",
              "    <tr>\n",
              "      <th>0</th>\n",
              "      <td>0</td>\n",
              "      <td>16.99</td>\n",
              "      <td>1.01</td>\n",
              "      <td>Female</td>\n",
              "      <td>No</td>\n",
              "      <td>Sun</td>\n",
              "      <td>Dinner</td>\n",
              "      <td>2</td>\n",
              "    </tr>\n",
              "    <tr>\n",
              "      <th>1</th>\n",
              "      <td>1</td>\n",
              "      <td>10.34</td>\n",
              "      <td>1.66</td>\n",
              "      <td>Male</td>\n",
              "      <td>No</td>\n",
              "      <td>Sun</td>\n",
              "      <td>Dinner</td>\n",
              "      <td>3</td>\n",
              "    </tr>\n",
              "    <tr>\n",
              "      <th>2</th>\n",
              "      <td>2</td>\n",
              "      <td>21.01</td>\n",
              "      <td>3.50</td>\n",
              "      <td>Male</td>\n",
              "      <td>No</td>\n",
              "      <td>Sun</td>\n",
              "      <td>Dinner</td>\n",
              "      <td>3</td>\n",
              "    </tr>\n",
              "    <tr>\n",
              "      <th>3</th>\n",
              "      <td>3</td>\n",
              "      <td>23.68</td>\n",
              "      <td>3.31</td>\n",
              "      <td>Male</td>\n",
              "      <td>No</td>\n",
              "      <td>Sun</td>\n",
              "      <td>Dinner</td>\n",
              "      <td>2</td>\n",
              "    </tr>\n",
              "    <tr>\n",
              "      <th>4</th>\n",
              "      <td>4</td>\n",
              "      <td>24.59</td>\n",
              "      <td>3.61</td>\n",
              "      <td>Female</td>\n",
              "      <td>No</td>\n",
              "      <td>Sun</td>\n",
              "      <td>Dinner</td>\n",
              "      <td>4</td>\n",
              "    </tr>\n",
              "  </tbody>\n",
              "</table>\n",
              "</div>"
            ],
            "text/plain": [
              "   Unnamed: 0  total_bill   tip     sex smoker  day    time  size\n",
              "0           0       16.99  1.01  Female     No  Sun  Dinner     2\n",
              "1           1       10.34  1.66    Male     No  Sun  Dinner     3\n",
              "2           2       21.01  3.50    Male     No  Sun  Dinner     3\n",
              "3           3       23.68  3.31    Male     No  Sun  Dinner     2\n",
              "4           4       24.59  3.61  Female     No  Sun  Dinner     4"
            ]
          },
          "metadata": {
            "tags": []
          },
          "execution_count": 27
        }
      ]
    },
    {
      "cell_type": "code",
      "metadata": {
        "id": "3MunHMokdBR5",
        "colab_type": "code",
        "outputId": "a645e3ea-a687-4a24-e388-8c61f0149c37",
        "colab": {
          "base_uri": "https://localhost:8080/",
          "height": 68
        }
      },
      "source": [
        "stats.bayes_mvs(df['tip'])"
      ],
      "execution_count": 0,
      "outputs": [
        {
          "output_type": "execute_result",
          "data": {
            "text/plain": [
              "(Mean(statistic=2.99827868852459, minmax=(2.8520226737233187, 3.144534703325861)),\n",
              " Variance(statistic=1.930342228419836, minmax=(1.6593254394395123, 2.237559803981232)),\n",
              " Std_dev(statistic=1.387927062939659, minmax=(1.288148065805912, 1.4958475202978516)))"
            ]
          },
          "metadata": {
            "tags": []
          },
          "execution_count": 34
        }
      ]
    },
    {
      "cell_type": "code",
      "metadata": {
        "id": "Ix3KSA-Aiasq",
        "colab_type": "code",
        "outputId": "cc2f8a9d-6c83-4678-a3bd-498059da2e16",
        "colab": {
          "base_uri": "https://localhost:8080/",
          "height": 68
        }
      },
      "source": [
        "stats.bayes_mvs(df['total_bill'])"
      ],
      "execution_count": 0,
      "outputs": [
        {
          "output_type": "execute_result",
          "data": {
            "text/plain": [
              "(Mean(statistic=19.78594262295082, minmax=(18.844922560779462, 20.726962685122174)),\n",
              " Variance(statistic=79.91063934936398, minmax=(68.69132053481488, 92.62856704168262)),\n",
              " Std_dev(statistic=8.93000682967766, minmax=(8.288022715630966, 9.624373592171214)))"
            ]
          },
          "metadata": {
            "tags": []
          },
          "execution_count": 36
        }
      ]
    },
    {
      "cell_type": "code",
      "metadata": {
        "id": "FbVj_CR4ijez",
        "colab_type": "code",
        "colab": {}
      },
      "source": [
        "stats.bayes_mvs(df['size'])"
      ],
      "execution_count": 0,
      "outputs": []
    },
    {
      "cell_type": "markdown",
      "metadata": {
        "id": "-Nz4bfNZevBc",
        "colab_type": "text"
      },
      "source": [
        "3) In your own words, summarize the difference between Bayesian and Frequentist statistics"
      ]
    },
    {
      "cell_type": "markdown",
      "metadata": {
        "id": "myDmVXn9drP8",
        "colab_type": "text"
      },
      "source": [
        "Frequentist inference defines probability as a long term frequency, while Bayesian inference defines it as degrees of logical support."
      ]
    },
    {
      "cell_type": "markdown",
      "metadata": {
        "id": "uWgWjp3PQ3Sq",
        "colab_type": "text"
      },
      "source": [
        "## Resources"
      ]
    },
    {
      "cell_type": "markdown",
      "metadata": {
        "id": "QRgHqmYIQ9qn",
        "colab_type": "text"
      },
      "source": [
        "- [Worked example of Bayes rule calculation](https://en.wikipedia.org/wiki/Bayes'_theorem#Examples) (helpful as it fully breaks out the denominator)\n",
        "- [Source code for mvsdist in scipy](https://github.com/scipy/scipy/blob/90534919e139d2a81c24bf08341734ff41a3db12/scipy/stats/morestats.py#L139)"
      ]
    },
    {
      "cell_type": "markdown",
      "metadata": {
        "id": "GP7Jv1XvwtkX",
        "colab_type": "text"
      },
      "source": [
        "## Stretch Goals:\n",
        "\n",
        "- Go back and study the content from Modules 1 & 2 to make sure that you're really comfortable with them.\n",
        "- Apply a Bayesian technique to a problem you previously worked (in an assignment or project work) on from a frequentist (standard) perspective\n",
        "- Check out [PyMC3](https://docs.pymc.io/) (note this goes beyond hypothesis tests into modeling) - read the guides and work through some examples\n",
        "- Take PyMC3 further - see if you can build something with it!"
      ]
    },
    {
      "cell_type": "markdown",
      "metadata": {
        "id": "YSPyzjmWliOQ",
        "colab_type": "text"
      },
      "source": [
        "Go back and study the content from Modules 1 & 2 to make sure that you're really comfortable with them."
      ]
    },
    {
      "cell_type": "markdown",
      "metadata": {
        "id": "y_v1mPf1jKKC",
        "colab_type": "text"
      },
      "source": [
        "Reviewed previous modules."
      ]
    },
    {
      "cell_type": "markdown",
      "metadata": {
        "id": "C_cL5e7ojRQf",
        "colab_type": "text"
      },
      "source": [
        "Apply a Bayesian technique to a problem you previously worked (in an assignment or project work) on from a frequentist (standard) perspective"
      ]
    },
    {
      "cell_type": "markdown",
      "metadata": {
        "id": "CXx8dNTLYTpM",
        "colab_type": "text"
      },
      "source": [
        "Ran out of time. :/"
      ]
    },
    {
      "cell_type": "markdown",
      "metadata": {
        "id": "opuzEJy5Xmon",
        "colab_type": "text"
      },
      "source": [
        "Take PyMC3 further - see if you can build something with it!"
      ]
    },
    {
      "cell_type": "markdown",
      "metadata": {
        "id": "8qkJqxMJXtT3",
        "colab_type": "text"
      },
      "source": [
        "Checked it out."
      ]
    },
    {
      "cell_type": "markdown",
      "metadata": {
        "id": "pZwOFBRZW9zp",
        "colab_type": "text"
      },
      "source": [
        "Take PyMC3 further - see if you can build something with it."
      ]
    },
    {
      "cell_type": "code",
      "metadata": {
        "id": "MBsEmKvzXDOH",
        "colab_type": "code",
        "colab": {
          "base_uri": "https://localhost:8080/",
          "height": 88
        },
        "outputId": "28023292-4a7d-4638-f53b-954f88ef357b"
      },
      "source": [
        "%matplotlib inline\n",
        "import numpy as np\n",
        "import theano.tensor as tt\n",
        "import pymc3 as pm\n",
        "\n",
        "import seaborn as sns\n",
        "import matplotlib.pyplot as plt\n",
        "\n",
        "sns.set_context('notebook')\n",
        "plt.style.use('fivethirtyeight')\n",
        "print('Running on PyMC3 v{}'.format(pm.__version__))"
      ],
      "execution_count": 1,
      "outputs": [
        {
          "output_type": "stream",
          "text": [
            "Running on PyMC3 v3.7\n"
          ],
          "name": "stdout"
        },
        {
          "output_type": "stream",
          "text": [
            "/usr/local/lib/python3.6/dist-packages/statsmodels/tools/_testing.py:19: FutureWarning: pandas.util.testing is deprecated. Use the functions in the public API at pandas.testing instead.\n",
            "  import pandas.util.testing as tm\n"
          ],
          "name": "stderr"
        }
      ]
    },
    {
      "cell_type": "markdown",
      "metadata": {
        "id": "_XfCG5slYW19",
        "colab_type": "text"
      },
      "source": [
        "Ran out of time. :/"
      ]
    }
  ]
}